{
 "cells": [
  {
   "cell_type": "code",
   "execution_count": 1,
   "id": "0b25b3da-18fb-4a91-9d53-95702ac29264",
   "metadata": {},
   "outputs": [],
   "source": [
    "# 🚀 Forex Currency Prediction Analysis"
   ]
  },
  {
   "cell_type": "code",
   "execution_count": 2,
   "id": "dc8f42b0-abe3-4f01-983c-579b51e84655",
   "metadata": {},
   "outputs": [
    {
     "name": "stdout",
     "output_type": "stream",
     "text": [
      "🎉 Full-Scale Forex Prediction System Initialized!\n",
      "📊 TensorFlow: 2.19.0\n",
      "🔮 Prophet: Available\n",
      "📈 XGBoost: Available\n",
      "📊 Training Configuration: ALL CURRENCIES, EXTENDED PERIOD\n"
     ]
    }
   ],
   "source": [
    "import pandas as pd\n",
    "import numpy as np\n",
    "import matplotlib.pyplot as plt\n",
    "import seaborn as sns\n",
    "from sklearn.model_selection import train_test_split\n",
    "from sklearn.ensemble import RandomForestRegressor\n",
    "from sklearn.linear_model import LinearRegression\n",
    "from sklearn.metrics import mean_absolute_error, mean_squared_error, mean_absolute_percentage_error\n",
    "from sklearn.preprocessing import StandardScaler, MinMaxScaler\n",
    "import tensorflow as tf\n",
    "from tensorflow.keras.models import Sequential\n",
    "from tensorflow.keras.layers import LSTM, Dense, Dropout, BatchNormalization\n",
    "from tensorflow.keras.optimizers import Adam\n",
    "from tensorflow.keras.callbacks import EarlyStopping, ReduceLROnPlateau, ModelCheckpoint\n",
    "from prophet import Prophet\n",
    "import statsmodels.api as sm\n",
    "from statsmodels.tsa.seasonal import seasonal_decompose\n",
    "import xgboost as xgb\n",
    "import joblib\n",
    "import warnings\n",
    "import os\n",
    "from datetime import datetime, timedelta\n",
    "import time\n",
    "warnings.filterwarnings('ignore')\n",
    "\n",
    "print(\"🎉 Full-Scale Forex Prediction System Initialized!\")\n",
    "print(f\"📊 TensorFlow: {tf.__version__}\")\n",
    "print(f\"🔮 Prophet: Available\")\n",
    "print(f\"📈 XGBoost: Available\")\n",
    "print(f\"📊 Training Configuration: ALL CURRENCIES, EXTENDED PERIOD\")"
   ]
  },
  {
   "cell_type": "code",
   "execution_count": 3,
   "id": "3ec0fde8-c9de-4673-9feb-b21d5e336a8e",
   "metadata": {},
   "outputs": [],
   "source": [
    "#Enhanced Configuration for full-scale training\n",
    "class FullScaleConfig:\n",
    "    \"\"\"Configuration for full-scale training\"\"\"\n",
    "    \n",
    "    # Data parameters\n",
    "    LOOKBACK_DAYS = 120  # Extended lookback for more features\n",
    "    TEST_SIZE = 0.15     # Smaller test size to maximize training data\n",
    "    \n",
    "    # Model parameters\n",
    "    TRAIN_ALL_CURRENCIES = True\n",
    "    MAX_CURRENCIES = None  # No limit - train on all available\n",
    "    \n",
    "    # LSTM parameters (enhanced for longer sequences)\n",
    "    LSTM_LOOKBACK = 90   # 3 months of data for LSTM\n",
    "    LSTM_EPOCHS = 150    # More epochs for complex patterns\n",
    "    LSTM_BATCH_SIZE = 64 # Larger batch size for stability\n",
    "    \n",
    "    # Feature engineering\n",
    "    ROLLING_WINDOWS = [5, 10, 20, 30, 60, 90, 120]  # Extended windows\n",
    "    TECHNICAL_INDICATORS = True\n",
    "    ADVANCED_FEATURES = True\n",
    "    \n",
    "    # Performance optimization\n",
    "    USE_MULTIPROCESSING = True\n",
    "    EARLY_STOPPING_PATIENCE = 20\n",
    "    \n",
    "    # Output settings\n",
    "    SAVE_ALL_MODELS = True\n",
    "    CREATE_DETAILED_REPORTS = True\n",
    "    GENERATE_FORECASTS = True\n",
    "\n",
    "config = FullScaleConfig()"
   ]
  },
  {
   "cell_type": "code",
   "execution_count": 4,
   "id": "4d580630-80e2-43f5-8ea5-bada797a451c",
   "metadata": {},
   "outputs": [
    {
     "name": "stdout",
     "output_type": "stream",
     "text": [
      "📊 Loading complete forex dataset...\n",
      "📂 Attempting to load: Foreign_Exchange_Rates.xls\n",
      "✅ Successfully loaded complete dataset!\n",
      "📊 Shape: (5020, 22)\n",
      "📅 Date range: 2000-01-03 00:00:00 to 2019-12-31 00:00:00\n",
      "💱 Total currencies: 22\n",
      "📈 Total data points: 110,415\n"
     ]
    }
   ],
   "source": [
    "#Data Loading\n",
    "def load_complete_forex_data():\n",
    "    \"\"\"Load the complete forex dataset with minimal processing\"\"\"\n",
    "    print(\"📊 Loading complete forex dataset...\")\n",
    "    \n",
    "    data_files = [\n",
    "        \"Foreign_Exchange_Rates.xls\",\n",
    "        \"data/Foreign_Exchange_Rates.xls\",\n",
    "        \"../Foreign_Exchange_Rates.xls\"\n",
    "    ]\n",
    "    \n",
    "    for file_path in data_files:\n",
    "        try:\n",
    "            print(f\"📂 Attempting to load: {file_path}\")\n",
    "            \n",
    "            # Try different file formats\n",
    "            if file_path.endswith('.xls') or file_path.endswith('.xlsx'):\n",
    "                try:\n",
    "                    data = pd.read_excel(file_path)\n",
    "                except:\n",
    "                    data = pd.read_csv(file_path)  # Sometimes .xls files are actually CSV\n",
    "            else:\n",
    "                data = pd.read_csv(file_path)\n",
    "            \n",
    "            # Clean up columns\n",
    "            data = data.drop([col for col in data.columns if 'Unnamed' in str(col) or col.startswith('_')], axis=1)\n",
    "            \n",
    "            # Find and process date column\n",
    "            date_col = None\n",
    "            for col in data.columns:\n",
    "                if any(word in col.lower() for word in ['time', 'date', 'serie']):\n",
    "                    date_col = col\n",
    "                    break\n",
    "            \n",
    "            if date_col:\n",
    "                # Try multiple date formats\n",
    "                for fmt in ['%d-%m-%Y', '%Y-%m-%d', '%m/%d/%Y']:\n",
    "                    try:\n",
    "                        data[date_col] = pd.to_datetime(data[date_col], format=fmt)\n",
    "                        break\n",
    "                    except:\n",
    "                        continue\n",
    "                \n",
    "                # If no format worked, try auto-parsing\n",
    "                if data[date_col].dtype == 'object':\n",
    "                    data[date_col] = pd.to_datetime(data[date_col], errors='coerce')\n",
    "                \n",
    "                data = data.rename(columns={date_col: 'Date'})\n",
    "                data.set_index('Date', inplace=True)\n",
    "                data = data.sort_index()\n",
    "            \n",
    "            # Convert all columns to numeric\n",
    "            for col in data.columns:\n",
    "                data[col] = pd.to_numeric(data[col], errors='coerce')\n",
    "            \n",
    "            # Remove any rows with all NaN values\n",
    "            data = data.dropna(how='all')\n",
    "            \n",
    "            print(f\"✅ Successfully loaded complete dataset!\")\n",
    "            print(f\"📊 Shape: {data.shape}\")\n",
    "            print(f\"📅 Date range: {data.index.min()} to {data.index.max()}\")\n",
    "            print(f\"💱 Total currencies: {len(data.columns)}\")\n",
    "            print(f\"📈 Total data points: {data.count().sum():,}\")\n",
    "            \n",
    "            return data\n",
    "            \n",
    "        except Exception as e:\n",
    "            print(f\"❌ Failed to load {file_path}: {str(e)}\")\n",
    "            continue\n",
    "    \n",
    "    print(\"❌ Could not load data from any location\")\n",
    "    return create_comprehensive_sample_data()\n",
    "\n",
    "def create_comprehensive_sample_data():\n",
    "    \"\"\"Create comprehensive sample data if real data unavailable\"\"\"\n",
    "    print(\"💡 Creating comprehensive sample dataset...\")\n",
    "    \n",
    "    np.random.seed(42)\n",
    "    # Extended date range - 25 years of data\n",
    "    dates = pd.date_range('2000-01-01', '2024-12-31', freq='D')\n",
    "    \n",
    "    # All major currency pairs with realistic parameters\n",
    "    currencies = {\n",
    "        'EURO AREA - EURO/US$': {'start': 1.18, 'volatility': 0.008, 'trend': 0.0001},\n",
    "        'UNITED KINGDOM - UNITED KINGDOM POUND/US$': {'start': 1.28, 'volatility': 0.012, 'trend': -0.0001},\n",
    "        'JAPAN - YEN/US$': {'start': 110.0, 'volatility': 0.8, 'trend': 0.02},\n",
    "        'CANADA - CANADIAN DOLLAR/US$': {'start': 1.33, 'volatility': 0.006, 'trend': 0.00005},\n",
    "        'AUSTRALIA - AUSTRALIAN DOLLAR/US$': {'start': 0.72, 'volatility': 0.010, 'trend': -0.00003},\n",
    "        'SWITZERLAND - FRANC/US$': {'start': 0.92, 'volatility': 0.007, 'trend': -0.00002},\n",
    "        'CHINA - YUAN/US$': {'start': 6.45, 'volatility': 0.015, 'trend': 0.0003},\n",
    "        'INDIA - INDIAN RUPEE/US$': {'start': 74.0, 'volatility': 0.3, 'trend': 0.01},\n",
    "        'BRAZIL - REAL/US$': {'start': 5.2, 'volatility': 0.05, 'trend': 0.001},\n",
    "        'SOUTH AFRICA - RAND/US$': {'start': 14.5, 'volatility': 0.15, 'trend': 0.002},\n",
    "        'MEXICO - MEXICAN PESO/US$': {'start': 9.5, 'volatility': 0.08, 'trend': 0.0008},\n",
    "        'KOREA - WON/US$': {'start': 1200, 'volatility': 8, 'trend': 0.05},\n",
    "        'SINGAPORE - SINGAPORE DOLLAR/US$': {'start': 1.35, 'volatility': 0.005, 'trend': 0.00001},\n",
    "        'HONG KONG - HONG KONG DOLLAR/US$': {'start': 7.75, 'volatility': 0.002, 'trend': 0.0001},\n",
    "        'NORWAY - NORWEGIAN KRONE/US$': {'start': 8.5, 'volatility': 0.012, 'trend': 0.0002},\n",
    "        'SWEDEN - KRONA/US$': {'start': 9.2, 'volatility': 0.011, 'trend': 0.0001},\n",
    "        'DENMARK - DANISH KRONE/US$': {'start': 6.8, 'volatility': 0.008, 'trend': 0.00005},\n",
    "        'THAILAND - BAHT/US$': {'start': 36.0, 'volatility': 0.4, 'trend': 0.005},\n",
    "        'MALAYSIA - RINGGIT/US$': {'start': 4.2, 'volatility': 0.03, 'trend': 0.0003},\n",
    "        'TAIWAN - NEW TAIWAN DOLLAR/US$': {'start': 31.0, 'volatility': 0.25, 'trend': 0.002},\n",
    "        'SRI LANKA - SRI LANKAN RUPEE/US$': {'start': 190, 'volatility': 2.5, 'trend': 0.05}\n",
    "    }\n",
    "    \n",
    "    data = pd.DataFrame(index=dates)\n",
    "    \n",
    "    for currency, params in currencies.items():\n",
    "        n_days = len(dates)\n",
    "        \n",
    "        # Create realistic time series with multiple components\n",
    "        \n",
    "        # 1. Trend component\n",
    "        trend = np.linspace(0, params['trend'] * n_days, n_days)\n",
    "        \n",
    "        # 2. Seasonal components\n",
    "        annual_seasonal = 0.02 * np.sin(2 * np.pi * np.arange(n_days) / 365.25)\n",
    "        monthly_seasonal = 0.01 * np.sin(2 * np.pi * np.arange(n_days) / 30.44)\n",
    "        \n",
    "        # 3. Economic cycle (7-year cycle)\n",
    "        economic_cycle = 0.03 * np.sin(2 * np.pi * np.arange(n_days) / (365.25 * 7))\n",
    "        \n",
    "        # 4. Random walk with volatility clustering\n",
    "        returns = np.random.normal(0, params['volatility'], n_days)\n",
    "        \n",
    "        # Add volatility clustering (GARCH-like effect)\n",
    "        volatility = np.ones(n_days) * params['volatility']\n",
    "        for i in range(1, n_days):\n",
    "            volatility[i] = 0.95 * volatility[i-1] + 0.05 * abs(returns[i-1])\n",
    "            returns[i] = np.random.normal(0, volatility[i])\n",
    "        \n",
    "        # 5. Occasional jumps (crisis events)\n",
    "        jump_probability = 0.001  # 0.1% chance per day\n",
    "        jumps = np.random.binomial(1, jump_probability, n_days)\n",
    "        jump_sizes = np.random.normal(0, params['volatility'] * 5, n_days) * jumps\n",
    "        \n",
    "        # Combine all components\n",
    "        log_prices = (trend + annual_seasonal + monthly_seasonal + \n",
    "                     economic_cycle + np.cumsum(returns) + np.cumsum(jump_sizes))\n",
    "        \n",
    "        prices = params['start'] * np.exp(log_prices)\n",
    "        data[currency] = prices\n",
    "    \n",
    "    print(f\"✅ Comprehensive sample data created!\")\n",
    "    print(f\"📊 Shape: {data.shape}\")\n",
    "    print(f\"💱 Currencies: {len(data.columns)}\")\n",
    "    \n",
    "    return data\n",
    "\n",
    "# Load the complete dataset\n",
    "forex_data = load_complete_forex_data()"
   ]
  },
  {
   "cell_type": "code",
   "execution_count": 5,
   "id": "278d0072-c221-460c-995b-6b9f0e106c2f",
   "metadata": {},
   "outputs": [],
   "source": [
    "#Feature Engineering\n",
    "def create_comprehensive_features(data, target_col, lookback_days=120):\n",
    "    \"\"\"Create comprehensive feature set with extended lookback\"\"\"\n",
    "    print(f\"🔧 Creating comprehensive features for {target_col}...\")\n",
    "    print(f\"   📊 Lookback period: {lookback_days} days\")\n",
    "    \n",
    "    df = data[[target_col]].copy()\n",
    "    original_length = len(df)\n",
    "    \n",
    "    # 1. Extended lag features\n",
    "    lag_periods = [1, 2, 3, 5, 7, 10, 14, 21, 30, 45, 60, 90]\n",
    "    for lag in lag_periods:\n",
    "        if lag <= lookback_days:\n",
    "            df[f'lag_{lag}'] = df[target_col].shift(lag)\n",
    "    \n",
    "    # 2. Comprehensive rolling statistics\n",
    "    for window in config.ROLLING_WINDOWS:\n",
    "        if len(df) > window:\n",
    "            df[f'rolling_mean_{window}'] = df[target_col].rolling(window).mean()\n",
    "            df[f'rolling_std_{window}'] = df[target_col].rolling(window).std()\n",
    "            df[f'rolling_max_{window}'] = df[target_col].rolling(window).max()\n",
    "            df[f'rolling_min_{window}'] = df[target_col].rolling(window).min()\n",
    "            df[f'rolling_median_{window}'] = df[target_col].rolling(window).median()\n",
    "            df[f'rolling_skew_{window}'] = df[target_col].rolling(window).skew()\n",
    "            df[f'rolling_kurt_{window}'] = df[target_col].rolling(window).kurt()\n",
    "    \n",
    "    # 3. Advanced technical indicators\n",
    "    if config.TECHNICAL_INDICATORS and len(df) > 50:\n",
    "        # Moving averages\n",
    "        ma_periods = [5, 10, 20, 50, 100, 200]\n",
    "        for period in ma_periods:\n",
    "            if len(df) > period:\n",
    "                df[f'sma_{period}'] = df[target_col].rolling(period).mean()\n",
    "                df[f'ema_{period}'] = df[target_col].ewm(span=period).mean()\n",
    "        \n",
    "        # MACD with multiple settings\n",
    "        if len(df) > 26:\n",
    "            for fast, slow, signal in [(12, 26, 9), (8, 21, 5), (19, 39, 9)]:\n",
    "                ema_fast = df[target_col].ewm(span=fast).mean()\n",
    "                ema_slow = df[target_col].ewm(span=slow).mean()\n",
    "                macd = ema_fast - ema_slow\n",
    "                macd_signal = macd.ewm(span=signal).mean()\n",
    "                \n",
    "                df[f'macd_{fast}_{slow}'] = macd\n",
    "                df[f'macd_signal_{fast}_{slow}_{signal}'] = macd_signal\n",
    "                df[f'macd_histogram_{fast}_{slow}_{signal}'] = macd - macd_signal\n",
    "        \n",
    "        # RSI with multiple periods\n",
    "        for rsi_period in [14, 21, 30]:\n",
    "            if len(df) > rsi_period:\n",
    "                delta = df[target_col].diff()\n",
    "                gain = (delta.where(delta > 0, 0)).rolling(window=rsi_period).mean()\n",
    "                loss = (-delta.where(delta < 0, 0)).rolling(window=rsi_period).mean()\n",
    "                rs = gain / loss\n",
    "                df[f'rsi_{rsi_period}'] = 100 - (100 / (1 + rs))\n",
    "        \n",
    "        # Bollinger Bands with multiple settings\n",
    "        for bb_period, bb_std in [(20, 2), (10, 1.5), (50, 2.5)]:\n",
    "            if len(df) > bb_period:\n",
    "                bb_middle = df[target_col].rolling(bb_period).mean()\n",
    "                bb_std_dev = df[target_col].rolling(bb_period).std()\n",
    "                bb_upper = bb_middle + (bb_std_dev * bb_std)\n",
    "                bb_lower = bb_middle - (bb_std_dev * bb_std)\n",
    "                \n",
    "                df[f'bb_middle_{bb_period}'] = bb_middle\n",
    "                df[f'bb_upper_{bb_period}_{bb_std}'] = bb_upper\n",
    "                df[f'bb_lower_{bb_period}_{bb_std}'] = bb_lower\n",
    "                df[f'bb_width_{bb_period}_{bb_std}'] = bb_upper - bb_lower\n",
    "                df[f'bb_position_{bb_period}_{bb_std}'] = (df[target_col] - bb_lower) / (bb_upper - bb_lower)\n",
    "        \n",
    "        # Stochastic Oscillator\n",
    "        if len(df) > 14:\n",
    "            for k_period, d_period in [(14, 3), (21, 5)]:\n",
    "                if len(df) > k_period:\n",
    "                    lowest_low = df[target_col].rolling(k_period).min()\n",
    "                    highest_high = df[target_col].rolling(k_period).max()\n",
    "                    k_percent = 100 * ((df[target_col] - lowest_low) / (highest_high - lowest_low))\n",
    "                    d_percent = k_percent.rolling(d_period).mean()\n",
    "                    \n",
    "                    df[f'stoch_k_{k_period}'] = k_percent\n",
    "                    df[f'stoch_d_{k_period}_{d_period}'] = d_percent\n",
    "        \n",
    "        # Williams %R\n",
    "        if len(df) > 14:\n",
    "            for wr_period in [14, 21]:\n",
    "                if len(df) > wr_period:\n",
    "                    highest_high = df[target_col].rolling(wr_period).max()\n",
    "                    lowest_low = df[target_col].rolling(wr_period).min()\n",
    "                    df[f'williams_r_{wr_period}'] = -100 * ((highest_high - df[target_col]) / (highest_high - lowest_low))\n",
    "    \n",
    "    # 4. Price-based features with multiple timeframes\n",
    "    price_change_periods = [1, 2, 3, 5, 7, 14, 21, 30, 60, 90]\n",
    "    for period in price_change_periods:\n",
    "        if period <= lookback_days:\n",
    "            df[f'price_change_{period}d'] = df[target_col].pct_change(period)\n",
    "            df[f'price_diff_{period}d'] = df[target_col].diff(period)\n",
    "    \n",
    "    # 5. Volatility features\n",
    "    for vol_window in [5, 10, 20, 30, 60]:\n",
    "        if len(df) > vol_window:\n",
    "            returns = df[target_col].pct_change()\n",
    "            df[f'volatility_{vol_window}d'] = returns.rolling(vol_window).std() * np.sqrt(252)\n",
    "            df[f'realized_vol_{vol_window}d'] = returns.rolling(vol_window).apply(lambda x: np.sqrt(np.sum(x**2)))\n",
    "    \n",
    "    # 6. Advanced statistical features\n",
    "    if config.ADVANCED_FEATURES:\n",
    "        for window in [20, 60, 120]:\n",
    "            if len(df) > window:\n",
    "                returns = df[target_col].pct_change()\n",
    "                \n",
    "                # Higher moments\n",
    "                df[f'skewness_{window}d'] = returns.rolling(window).skew()\n",
    "                df[f'kurtosis_{window}d'] = returns.rolling(window).kurt()\n",
    "                \n",
    "                # Autocorrelation\n",
    "                df[f'autocorr_1_{window}d'] = returns.rolling(window).apply(lambda x: x.autocorr(lag=1))\n",
    "                df[f'autocorr_5_{window}d'] = returns.rolling(window).apply(lambda x: x.autocorr(lag=5))\n",
    "                \n",
    "                # Trend strength\n",
    "                df[f'trend_strength_{window}d'] = df[target_col].rolling(window).apply(\n",
    "                    lambda x: np.corrcoef(np.arange(len(x)), x)[0, 1] if len(x) > 1 else 0\n",
    "                )\n",
    "    \n",
    "    # 7. Cross-currency features (if other currencies available)\n",
    "    other_currencies = [col for col in data.columns if col != target_col][:3]  # Top 3 others\n",
    "    for other_curr in other_currencies:\n",
    "        if other_curr in data.columns:\n",
    "            # Currency correlations\n",
    "            for window in [30, 60, 120]:\n",
    "                if len(df) > window:\n",
    "                    df[f'corr_{other_curr.split()[0]}_{window}d'] = df[target_col].rolling(window).corr(data[other_curr])\n",
    "            \n",
    "            # Relative strength\n",
    "            df[f'relative_strength_{other_curr.split()[0]}'] = df[target_col] / data[other_curr]\n",
    "    \n",
    "    # 8. Enhanced date and time features\n",
    "    df['day'] = df.index.day\n",
    "    df['month'] = df.index.month\n",
    "    df['year'] = df.index.year\n",
    "    df['day_of_week'] = df.index.dayofweek\n",
    "    df['quarter'] = df.index.quarter\n",
    "    df['week_of_year'] = df.index.isocalendar().week\n",
    "    df['is_month_start'] = df.index.is_month_start.astype(int)\n",
    "    df['is_month_end'] = df.index.is_month_end.astype(int)\n",
    "    df['is_quarter_start'] = df.index.is_quarter_start.astype(int)\n",
    "    df['is_quarter_end'] = df.index.is_quarter_end.astype(int)\n",
    "    df['is_year_start'] = df.index.is_year_start.astype(int)\n",
    "    df['is_year_end'] = df.index.is_year_end.astype(int)\n",
    "    \n",
    "    # 9. Cyclical encoding for better ML performance\n",
    "    df['month_sin'] = np.sin(2 * np.pi * df['month'] / 12)\n",
    "    df['month_cos'] = np.cos(2 * np.pi * df['month'] / 12)\n",
    "    df['day_of_week_sin'] = np.sin(2 * np.pi * df['day_of_week'] / 7)\n",
    "    df['day_of_week_cos'] = np.cos(2 * np.pi * df['day_of_week'] / 7)\n",
    "    df['quarter_sin'] = np.sin(2 * np.pi * df['quarter'] / 4)\n",
    "    df['quarter_cos'] = np.cos(2 * np.pi * df['quarter'] / 4)\n",
    "    \n",
    "    # 10. Economic calendar features (simplified)\n",
    "    # Add day-of-week and month patterns that might reflect economic announcements\n",
    "    df['is_friday'] = (df['day_of_week'] == 4).astype(int)  # NFP day\n",
    "    df['is_first_week'] = (df.index.day <= 7).astype(int)   # Common for central bank meetings\n",
    "    \n",
    "    # Remove rows with NaN values\n",
    "    df_clean = df.dropna()\n",
    "    \n",
    "    print(f\"✅ Comprehensive feature engineering completed!\")\n",
    "    print(f\"   📊 Original length: {original_length:,}\")\n",
    "    print(f\"   📊 After cleaning: {len(df_clean):,}\")\n",
    "    print(f\"   🔧 Total features: {len(df_clean.columns) - 1}\")\n",
    "    print(f\"   📉 Data reduction: {((original_length - len(df_clean)) / original_length * 100):.1f}%\")\n",
    "    \n",
    "    return df_clean"
   ]
  },
  {
   "cell_type": "code",
   "execution_count": 6,
   "id": "d4867f0b-f743-400e-8ceb-2a4a7281ee41",
   "metadata": {},
   "outputs": [
    {
     "name": "stdout",
     "output_type": "stream",
     "text": [
      "🧪 Testing feature engineering on: AUSTRALIA - AUSTRALIAN DOLLAR/US$\n",
      "🔧 Creating comprehensive features for AUSTRALIA - AUSTRALIAN DOLLAR/US$...\n",
      "   📊 Lookback period: 120 days\n",
      "✅ Comprehensive feature engineering completed!\n",
      "   📊 Original length: 5,020\n",
      "   📊 After cleaning: 4,621\n",
      "   🔧 Total features: 183\n",
      "   📉 Data reduction: 7.9%\n",
      "\n",
      "📊 Feature Engineering Results:\n",
      "   Original data: 5020 rows\n",
      "   After features: 4621 rows\n",
      "   Total features: 183\n",
      "   Feature list (first 10):\n",
      "     2. lag_1\n",
      "     3. lag_2\n",
      "     4. lag_3\n",
      "     5. lag_5\n",
      "     6. lag_7\n",
      "     7. lag_10\n",
      "     8. lag_14\n",
      "     9. lag_21\n",
      "     10. lag_30\n"
     ]
    }
   ],
   "source": [
    "# Test feature engineering on one currency first\n",
    "test_currency = forex_data.columns[0]  # First currency in your dataset\n",
    "print(f\"🧪 Testing feature engineering on: {test_currency}\")\n",
    "\n",
    "# Run feature engineering for this currency\n",
    "test_features = create_comprehensive_features(forex_data, test_currency, lookback_days=120)\n",
    "\n",
    "print(f\"\\n📊 Feature Engineering Results:\")\n",
    "print(f\"   Original data: {len(forex_data)} rows\")\n",
    "print(f\"   After features: {len(test_features)} rows\")\n",
    "print(f\"   Total features: {len(test_features.columns) - 1}\")\n",
    "print(f\"   Feature list (first 10):\")\n",
    "for i, col in enumerate(list(test_features.columns)[:10], 1):\n",
    "    if col != test_currency:\n",
    "        print(f\"     {i}. {col}\")"
   ]
  },
  {
   "cell_type": "code",
   "execution_count": 7,
   "id": "b73270c4-1209-4399-a2fa-c2720f726c74",
   "metadata": {},
   "outputs": [
    {
     "name": "stdout",
     "output_type": "stream",
     "text": [
      "🛡️ Starting Ultra-Safe Training...\n",
      "🛡️ ULTRA-SAFE TRAINING FOR ALL 22 CURRENCIES\n",
      "====================================================================================================\n",
      "\n",
      "🚀 [ 1/22] AUSTRALIA\n",
      "------------------------------------------------------------\n",
      "🔧 Creating ultra-safe features for AUSTRALIA - AUSTRALIAN DOLLAR/US$...\n",
      "   📊 Adding lag features...\n",
      "   📈 Adding rolling statistics...\n",
      "   💹 Adding price changes...\n",
      "   🔧 Adding technical indicators...\n",
      "   📅 Adding date features...\n",
      "   🧹 Final data cleaning...\n",
      "   ✅ Success! Features: 27, Samples: 4989\n",
      "   📊 Preparing data...\n",
      "   📈 Train: 3991, Test: 998, Features: 27\n",
      "   🤖 Training Linear Regression...\n",
      "      ✅ LR - MAPE: 0.03%\n",
      "   🌳 Training Random Forest...\n",
      "      ✅ RF - MAPE: 0.15%\n",
      "   🚀 Training XGBoost...\n",
      "      ✅ XGB - MAPE: 0.15%\n",
      "   🏆 Best: Linear_Regression (MAPE: 0.03%)\n",
      "   ✅ Saved: models/AUSTRALIA_model.pkl\n",
      "\n",
      "🚀 [ 2/22] EURO AREA\n",
      "------------------------------------------------------------\n",
      "🔧 Creating ultra-safe features for EURO AREA - EURO/US$...\n",
      "   📊 Adding lag features...\n",
      "   📈 Adding rolling statistics...\n",
      "   💹 Adding price changes...\n",
      "   🔧 Adding technical indicators...\n",
      "   📅 Adding date features...\n",
      "   🧹 Final data cleaning...\n",
      "   ✅ Success! Features: 27, Samples: 4989\n",
      "   📊 Preparing data...\n",
      "   📈 Train: 3991, Test: 998, Features: 27\n",
      "   🤖 Training Linear Regression...\n",
      "      ✅ LR - MAPE: 0.02%\n",
      "   🌳 Training Random Forest...\n",
      "      ✅ RF - MAPE: 0.17%\n",
      "   🚀 Training XGBoost...\n",
      "      ✅ XGB - MAPE: 0.15%\n",
      "   🏆 Best: Linear_Regression (MAPE: 0.02%)\n",
      "   ✅ Saved: models/EURO_AREA_model.pkl\n",
      "\n",
      "🚀 [ 3/22] NEW ZEALAND\n",
      "------------------------------------------------------------\n",
      "🔧 Creating ultra-safe features for NEW ZEALAND - NEW ZELAND DOLLAR/US$...\n",
      "   📊 Adding lag features...\n",
      "   📈 Adding rolling statistics...\n",
      "   💹 Adding price changes...\n",
      "   🔧 Adding technical indicators...\n",
      "   📅 Adding date features...\n",
      "   🧹 Final data cleaning...\n",
      "   ✅ Success! Features: 27, Samples: 4989\n",
      "   📊 Preparing data...\n",
      "   📈 Train: 3991, Test: 998, Features: 27\n",
      "   🤖 Training Linear Regression...\n",
      "      ✅ LR - MAPE: 0.05%\n",
      "   🌳 Training Random Forest...\n",
      "      ✅ RF - MAPE: 0.13%\n",
      "   🚀 Training XGBoost...\n",
      "      ✅ XGB - MAPE: 0.12%\n",
      "   🏆 Best: Linear_Regression (MAPE: 0.05%)\n",
      "   ✅ Saved: models/NEW_ZEALAND_model.pkl\n",
      "\n",
      "🚀 [ 4/22] UNITED KINGDOM\n",
      "------------------------------------------------------------\n",
      "🔧 Creating ultra-safe features for UNITED KINGDOM - UNITED KINGDOM POUND/US$...\n",
      "   📊 Adding lag features...\n",
      "   📈 Adding rolling statistics...\n",
      "   💹 Adding price changes...\n",
      "   🔧 Adding technical indicators...\n",
      "   📅 Adding date features...\n",
      "   🧹 Final data cleaning...\n",
      "   ✅ Success! Features: 27, Samples: 4989\n",
      "   📊 Preparing data...\n",
      "   📈 Train: 3991, Test: 998, Features: 27\n",
      "   🤖 Training Linear Regression...\n",
      "      ✅ LR - MAPE: 0.08%\n",
      "   🌳 Training Random Forest...\n",
      "      ✅ RF - MAPE: 5.84%\n",
      "   🚀 Training XGBoost...\n",
      "      ✅ XGB - MAPE: 6.42%\n",
      "   🏆 Best: Linear_Regression (MAPE: 0.08%)\n",
      "   ✅ Saved: models/UNITED_KINGDOM_model.pkl\n",
      "\n",
      "🚀 [ 5/22] BRAZIL\n",
      "------------------------------------------------------------\n",
      "🔧 Creating ultra-safe features for BRAZIL - REAL/US$...\n",
      "   📊 Adding lag features...\n",
      "   📈 Adding rolling statistics...\n",
      "   💹 Adding price changes...\n",
      "   🔧 Adding technical indicators...\n",
      "   📅 Adding date features...\n",
      "   🧹 Final data cleaning...\n",
      "   ✅ Success! Features: 27, Samples: 4989\n",
      "   📊 Preparing data...\n",
      "   📈 Train: 3991, Test: 998, Features: 27\n",
      "   🤖 Training Linear Regression...\n",
      "      ✅ LR - MAPE: 0.19%\n",
      "   🌳 Training Random Forest...\n",
      "      ✅ RF - MAPE: 0.86%\n",
      "   🚀 Training XGBoost...\n",
      "      ✅ XGB - MAPE: 1.02%\n",
      "   🏆 Best: Linear_Regression (MAPE: 0.19%)\n",
      "   ✅ Saved: models/BRAZIL_model.pkl\n",
      "\n",
      "🚀 [ 6/22] CANADA\n",
      "------------------------------------------------------------\n",
      "🔧 Creating ultra-safe features for CANADA - CANADIAN DOLLAR/US$...\n",
      "   📊 Adding lag features...\n",
      "   📈 Adding rolling statistics...\n",
      "   💹 Adding price changes...\n",
      "   🔧 Adding technical indicators...\n",
      "   📅 Adding date features...\n",
      "   🧹 Final data cleaning...\n",
      "   ✅ Success! Features: 27, Samples: 4989\n",
      "   📊 Preparing data...\n",
      "   📈 Train: 3991, Test: 998, Features: 27\n",
      "   🤖 Training Linear Regression...\n",
      "      ✅ LR - MAPE: 0.04%\n",
      "   🌳 Training Random Forest...\n",
      "      ✅ RF - MAPE: 0.16%\n",
      "   🚀 Training XGBoost...\n",
      "      ✅ XGB - MAPE: 0.15%\n",
      "   🏆 Best: Linear_Regression (MAPE: 0.04%)\n",
      "   ✅ Saved: models/CANADA_model.pkl\n",
      "\n",
      "🚀 [ 7/22] CHINA\n",
      "------------------------------------------------------------\n",
      "🔧 Creating ultra-safe features for CHINA - YUAN/US$...\n",
      "   📊 Adding lag features...\n",
      "   📈 Adding rolling statistics...\n",
      "   💹 Adding price changes...\n",
      "   🔧 Adding technical indicators...\n",
      "   📅 Adding date features...\n",
      "   🧹 Final data cleaning...\n",
      "   ✅ Success! Features: 27, Samples: 4990\n",
      "   📊 Preparing data...\n",
      "   📈 Train: 3992, Test: 998, Features: 27\n",
      "   🤖 Training Linear Regression...\n",
      "      ✅ LR - MAPE: 0.01%\n",
      "   🌳 Training Random Forest...\n",
      "      ✅ RF - MAPE: 0.29%\n",
      "   🚀 Training XGBoost...\n",
      "      ✅ XGB - MAPE: 0.23%\n",
      "   🏆 Best: Linear_Regression (MAPE: 0.01%)\n",
      "   ✅ Saved: models/CHINA_model.pkl\n",
      "\n",
      "🚀 [ 8/22] HONG KONG\n",
      "------------------------------------------------------------\n",
      "🔧 Creating ultra-safe features for HONG KONG - HONG KONG DOLLAR/US$...\n",
      "   📊 Adding lag features...\n",
      "   📈 Adding rolling statistics...\n",
      "   💹 Adding price changes...\n",
      "   🔧 Adding technical indicators...\n",
      "   📅 Adding date features...\n",
      "   🧹 Final data cleaning...\n",
      "   ✅ Success! Features: 27, Samples: 4989\n",
      "   📊 Preparing data...\n",
      "   📈 Train: 3991, Test: 998, Features: 27\n",
      "   🤖 Training Linear Regression...\n",
      "      ✅ LR - MAPE: 0.00%\n",
      "   🌳 Training Random Forest...\n",
      "      ✅ RF - MAPE: 0.09%\n",
      "   🚀 Training XGBoost...\n",
      "      ✅ XGB - MAPE: 0.10%\n",
      "   🏆 Best: Linear_Regression (MAPE: 0.00%)\n",
      "   ✅ Saved: models/HONG_KONG_model.pkl\n",
      "\n",
      "🚀 [ 9/22] INDIA\n",
      "------------------------------------------------------------\n",
      "🔧 Creating ultra-safe features for INDIA - INDIAN RUPEE/US$...\n",
      "   📊 Adding lag features...\n",
      "   📈 Adding rolling statistics...\n",
      "   💹 Adding price changes...\n",
      "   🔧 Adding technical indicators...\n",
      "   📅 Adding date features...\n",
      "   🧹 Final data cleaning...\n",
      "   ✅ Success! Features: 27, Samples: 4988\n",
      "   📊 Preparing data...\n",
      "   📈 Train: 3990, Test: 998, Features: 27\n",
      "   🤖 Training Linear Regression...\n",
      "      ✅ LR - MAPE: 0.06%\n",
      "   🌳 Training Random Forest...\n",
      "      ✅ RF - MAPE: 2.42%\n",
      "   🚀 Training XGBoost...\n",
      "      ✅ XGB - MAPE: 2.56%\n",
      "   🏆 Best: Linear_Regression (MAPE: 0.06%)\n",
      "   ✅ Saved: models/INDIA_model.pkl\n",
      "\n",
      "🚀 [10/22] KOREA\n",
      "------------------------------------------------------------\n",
      "🔧 Creating ultra-safe features for KOREA - WON/US$...\n",
      "   📊 Adding lag features...\n",
      "   📈 Adding rolling statistics...\n",
      "   💹 Adding price changes...\n",
      "   🔧 Adding technical indicators...\n",
      "   📅 Adding date features...\n",
      "   🧹 Final data cleaning...\n",
      "   ✅ Success! Features: 27, Samples: 4989\n",
      "   📊 Preparing data...\n",
      "   📈 Train: 3991, Test: 998, Features: 27\n",
      "   🤖 Training Linear Regression...\n",
      "      ✅ LR - MAPE: 0.03%\n",
      "   🌳 Training Random Forest...\n",
      "      ✅ RF - MAPE: 0.10%\n",
      "   🚀 Training XGBoost...\n",
      "      ✅ XGB - MAPE: 0.09%\n",
      "   🏆 Best: Linear_Regression (MAPE: 0.03%)\n",
      "   ✅ Saved: models/KOREA_model.pkl\n",
      "\n",
      "🚀 [11/22] MEXICO\n",
      "------------------------------------------------------------\n",
      "🔧 Creating ultra-safe features for MEXICO - MEXICAN PESO/US$...\n",
      "   📊 Adding lag features...\n",
      "   📈 Adding rolling statistics...\n",
      "   💹 Adding price changes...\n",
      "   🔧 Adding technical indicators...\n",
      "   📅 Adding date features...\n",
      "   🧹 Final data cleaning...\n",
      "   ✅ Success! Features: 27, Samples: 4989\n",
      "   📊 Preparing data...\n",
      "   📈 Train: 3991, Test: 998, Features: 27\n",
      "   🤖 Training Linear Regression...\n",
      "      ✅ LR - MAPE: 0.19%\n",
      "   🌳 Training Random Forest...\n",
      "      ✅ RF - MAPE: 9.41%\n",
      "   🚀 Training XGBoost...\n",
      "      ✅ XGB - MAPE: 9.90%\n",
      "   🏆 Best: Linear_Regression (MAPE: 0.19%)\n",
      "   ✅ Saved: models/MEXICO_model.pkl\n",
      "\n",
      "🚀 [12/22] SOUTH AFRICA\n",
      "------------------------------------------------------------\n",
      "🔧 Creating ultra-safe features for SOUTH AFRICA - RAND/US$...\n",
      "   📊 Adding lag features...\n",
      "   📈 Adding rolling statistics...\n",
      "   💹 Adding price changes...\n",
      "   🔧 Adding technical indicators...\n",
      "   📅 Adding date features...\n",
      "   🧹 Final data cleaning...\n",
      "   ✅ Success! Features: 27, Samples: 4989\n",
      "   📊 Preparing data...\n",
      "   📈 Train: 3991, Test: 998, Features: 27\n",
      "   🤖 Training Linear Regression...\n",
      "      ✅ LR - MAPE: 0.29%\n",
      "   🌳 Training Random Forest...\n",
      "      ✅ RF - MAPE: 1.54%\n",
      "   🚀 Training XGBoost...\n",
      "      ✅ XGB - MAPE: 1.24%\n",
      "   🏆 Best: Linear_Regression (MAPE: 0.29%)\n",
      "   ✅ Saved: models/SOUTH_AFRICA_model.pkl\n",
      "\n",
      "🚀 [13/22] SINGAPORE\n",
      "------------------------------------------------------------\n",
      "🔧 Creating ultra-safe features for SINGAPORE - SINGAPORE DOLLAR/US$...\n",
      "   📊 Adding lag features...\n",
      "   📈 Adding rolling statistics...\n",
      "   💹 Adding price changes...\n",
      "   🔧 Adding technical indicators...\n",
      "   📅 Adding date features...\n",
      "   🧹 Final data cleaning...\n",
      "   ✅ Success! Features: 27, Samples: 4989\n",
      "   📊 Preparing data...\n",
      "   📈 Train: 3991, Test: 998, Features: 27\n",
      "   🤖 Training Linear Regression...\n",
      "      ✅ LR - MAPE: 0.01%\n",
      "   🌳 Training Random Forest...\n",
      "      ✅ RF - MAPE: 0.11%\n",
      "   🚀 Training XGBoost...\n",
      "      ✅ XGB - MAPE: 0.08%\n",
      "   🏆 Best: Linear_Regression (MAPE: 0.01%)\n",
      "   ✅ Saved: models/SINGAPORE_model.pkl\n",
      "\n",
      "🚀 [14/22] DENMARK\n",
      "------------------------------------------------------------\n",
      "🔧 Creating ultra-safe features for DENMARK - DANISH KRONE/US$...\n",
      "   📊 Adding lag features...\n",
      "   📈 Adding rolling statistics...\n",
      "   💹 Adding price changes...\n",
      "   🔧 Adding technical indicators...\n",
      "   📅 Adding date features...\n",
      "   🧹 Final data cleaning...\n",
      "   ✅ Success! Features: 27, Samples: 4989\n",
      "   📊 Preparing data...\n",
      "   📈 Train: 3991, Test: 998, Features: 27\n",
      "   🤖 Training Linear Regression...\n",
      "      ✅ LR - MAPE: 0.02%\n",
      "   🌳 Training Random Forest...\n",
      "      ✅ RF - MAPE: 0.16%\n",
      "   🚀 Training XGBoost...\n",
      "      ✅ XGB - MAPE: 0.16%\n",
      "   🏆 Best: Linear_Regression (MAPE: 0.02%)\n",
      "   ✅ Saved: models/DENMARK_model.pkl\n",
      "\n",
      "🚀 [15/22] JAPAN\n",
      "------------------------------------------------------------\n",
      "🔧 Creating ultra-safe features for JAPAN - YEN/US$...\n",
      "   📊 Adding lag features...\n",
      "   📈 Adding rolling statistics...\n",
      "   💹 Adding price changes...\n",
      "   🔧 Adding technical indicators...\n",
      "   📅 Adding date features...\n",
      "   🧹 Final data cleaning...\n",
      "   ✅ Success! Features: 27, Samples: 4989\n",
      "   📊 Preparing data...\n",
      "   📈 Train: 3991, Test: 998, Features: 27\n",
      "   🤖 Training Linear Regression...\n",
      "      ✅ LR - MAPE: 0.02%\n",
      "   🌳 Training Random Forest...\n",
      "      ✅ RF - MAPE: 0.12%\n",
      "   🚀 Training XGBoost...\n",
      "      ✅ XGB - MAPE: 0.12%\n",
      "   🏆 Best: Linear_Regression (MAPE: 0.02%)\n",
      "   ✅ Saved: models/JAPAN_model.pkl\n",
      "\n",
      "🚀 [16/22] MALAYSIA\n",
      "------------------------------------------------------------\n",
      "🔧 Creating ultra-safe features for MALAYSIA - RINGGIT/US$...\n",
      "   📊 Adding lag features...\n",
      "   📈 Adding rolling statistics...\n",
      "   💹 Adding price changes...\n",
      "   🔧 Adding technical indicators...\n",
      "   📅 Adding date features...\n",
      "   🧹 Final data cleaning...\n",
      "   ✅ Success! Features: 27, Samples: 4989\n",
      "   📊 Preparing data...\n",
      "   📈 Train: 3991, Test: 998, Features: 27\n",
      "   🤖 Training Linear Regression...\n",
      "      ✅ LR - MAPE: 0.03%\n",
      "   🌳 Training Random Forest...\n",
      "      ✅ RF - MAPE: 1.54%\n",
      "   🚀 Training XGBoost...\n",
      "      ✅ XGB - MAPE: 1.66%\n",
      "   🏆 Best: Linear_Regression (MAPE: 0.03%)\n",
      "   ✅ Saved: models/MALAYSIA_model.pkl\n",
      "\n",
      "🚀 [17/22] NORWAY\n",
      "------------------------------------------------------------\n",
      "🔧 Creating ultra-safe features for NORWAY - NORWEGIAN KRONE/US$...\n",
      "   📊 Adding lag features...\n",
      "   📈 Adding rolling statistics...\n",
      "   💹 Adding price changes...\n",
      "   🔧 Adding technical indicators...\n",
      "   📅 Adding date features...\n",
      "   🧹 Final data cleaning...\n",
      "   ✅ Success! Features: 27, Samples: 4989\n",
      "   📊 Preparing data...\n",
      "   📈 Train: 3991, Test: 998, Features: 27\n",
      "   🤖 Training Linear Regression...\n",
      "      ✅ LR - MAPE: 0.09%\n",
      "   🌳 Training Random Forest...\n",
      "      ✅ RF - MAPE: 0.25%\n",
      "   🚀 Training XGBoost...\n",
      "      ✅ XGB - MAPE: 0.21%\n",
      "   🏆 Best: Linear_Regression (MAPE: 0.09%)\n",
      "   ✅ Saved: models/NORWAY_model.pkl\n",
      "\n",
      "🚀 [18/22] SWEDEN\n",
      "------------------------------------------------------------\n",
      "🔧 Creating ultra-safe features for SWEDEN - KRONA/US$...\n",
      "   📊 Adding lag features...\n",
      "   📈 Adding rolling statistics...\n",
      "   💹 Adding price changes...\n",
      "   🔧 Adding technical indicators...\n",
      "   📅 Adding date features...\n",
      "   🧹 Final data cleaning...\n",
      "   ✅ Success! Features: 27, Samples: 4989\n",
      "   📊 Preparing data...\n",
      "   📈 Train: 3991, Test: 998, Features: 27\n",
      "   🤖 Training Linear Regression...\n",
      "      ✅ LR - MAPE: 0.05%\n",
      "   🌳 Training Random Forest...\n",
      "      ✅ RF - MAPE: 0.18%\n",
      "   🚀 Training XGBoost...\n",
      "      ✅ XGB - MAPE: 0.17%\n",
      "   🏆 Best: Linear_Regression (MAPE: 0.05%)\n",
      "   ✅ Saved: models/SWEDEN_model.pkl\n",
      "\n",
      "🚀 [19/22] SRI LANKA\n",
      "------------------------------------------------------------\n",
      "🔧 Creating ultra-safe features for SRI LANKA - SRI LANKAN RUPEE/US$...\n",
      "   📊 Adding lag features...\n",
      "   📈 Adding rolling statistics...\n",
      "   💹 Adding price changes...\n",
      "   🔧 Adding technical indicators...\n",
      "   📅 Adding date features...\n",
      "   🧹 Final data cleaning...\n",
      "   ✅ Success! Features: 27, Samples: 4989\n",
      "   📊 Preparing data...\n",
      "   📈 Train: 3991, Test: 998, Features: 27\n",
      "   🤖 Training Linear Regression...\n",
      "      ✅ LR - MAPE: 0.05%\n",
      "   🌳 Training Random Forest...\n",
      "      ✅ RF - MAPE: 9.55%\n",
      "   🚀 Training XGBoost...\n",
      "      ✅ XGB - MAPE: 9.70%\n",
      "   🏆 Best: Linear_Regression (MAPE: 0.05%)\n",
      "   ✅ Saved: models/SRI_LANKA_model.pkl\n",
      "\n",
      "🚀 [20/22] SWITZERLAND\n",
      "------------------------------------------------------------\n",
      "🔧 Creating ultra-safe features for SWITZERLAND - FRANC/US$...\n",
      "   📊 Adding lag features...\n",
      "   📈 Adding rolling statistics...\n",
      "   💹 Adding price changes...\n",
      "   🔧 Adding technical indicators...\n",
      "   📅 Adding date features...\n",
      "   🧹 Final data cleaning...\n",
      "   ✅ Success! Features: 27, Samples: 4989\n",
      "   📊 Preparing data...\n",
      "   📈 Train: 3991, Test: 998, Features: 27\n",
      "   🤖 Training Linear Regression...\n",
      "      ✅ LR - MAPE: 0.05%\n",
      "   🌳 Training Random Forest...\n",
      "      ✅ RF - MAPE: 0.14%\n",
      "   🚀 Training XGBoost...\n",
      "      ✅ XGB - MAPE: 0.17%\n",
      "   🏆 Best: Linear_Regression (MAPE: 0.05%)\n",
      "   ✅ Saved: models/SWITZERLAND_model.pkl\n",
      "\n",
      "🚀 [21/22] TAIWAN\n",
      "------------------------------------------------------------\n",
      "🔧 Creating ultra-safe features for TAIWAN - NEW TAIWAN DOLLAR/US$...\n",
      "   📊 Adding lag features...\n",
      "   📈 Adding rolling statistics...\n",
      "   💹 Adding price changes...\n",
      "   🔧 Adding technical indicators...\n",
      "   📅 Adding date features...\n",
      "   🧹 Final data cleaning...\n",
      "   ✅ Success! Features: 27, Samples: 4986\n",
      "   📊 Preparing data...\n",
      "   📈 Train: 3988, Test: 998, Features: 27\n",
      "   🤖 Training Linear Regression...\n",
      "      ✅ LR - MAPE: 0.01%\n",
      "   🌳 Training Random Forest...\n",
      "      ✅ RF - MAPE: 0.08%\n",
      "   🚀 Training XGBoost...\n",
      "      ✅ XGB - MAPE: 0.05%\n",
      "   🏆 Best: Linear_Regression (MAPE: 0.01%)\n",
      "   ✅ Saved: models/TAIWAN_model.pkl\n",
      "\n",
      "🚀 [22/22] THAILAND\n",
      "------------------------------------------------------------\n",
      "🔧 Creating ultra-safe features for THAILAND - BAHT/US$...\n",
      "   📊 Adding lag features...\n",
      "   📈 Adding rolling statistics...\n",
      "   💹 Adding price changes...\n",
      "   🔧 Adding technical indicators...\n",
      "   📅 Adding date features...\n",
      "   🧹 Final data cleaning...\n",
      "   ✅ Success! Features: 27, Samples: 4989\n",
      "   📊 Preparing data...\n",
      "   📈 Train: 3991, Test: 998, Features: 27\n",
      "   🤖 Training Linear Regression...\n",
      "      ✅ LR - MAPE: 0.01%\n",
      "   🌳 Training Random Forest...\n",
      "      ✅ RF - MAPE: 0.10%\n",
      "   🚀 Training XGBoost...\n",
      "      ✅ XGB - MAPE: 0.09%\n",
      "   🏆 Best: Linear_Regression (MAPE: 0.01%)\n",
      "   ✅ Saved: models/THAILAND_model.pkl\n",
      "\n",
      "================================================================================\n",
      "🏁 ULTRA-SAFE TRAINING RESULTS\n",
      "================================================================================\n",
      "\n",
      "📊 SUMMARY:\n",
      "   ✅ Successful: 22/22\n",
      "   📈 Success rate: 100.0%\n",
      "   ⏱️ Time: 1.0 minutes\n",
      "\n",
      "🏆 TRAINED MODELS:\n",
      "   💱 AUSTRALIA            | Linear_Regression | MAPE:  0.03%\n",
      "   💱 EURO AREA            | Linear_Regression | MAPE:  0.02%\n",
      "   💱 NEW ZEALAND          | Linear_Regression | MAPE:  0.05%\n",
      "   💱 UNITED KINGDOM       | Linear_Regression | MAPE:  0.08%\n",
      "   💱 BRAZIL               | Linear_Regression | MAPE:  0.19%\n",
      "   💱 CANADA               | Linear_Regression | MAPE:  0.04%\n",
      "   💱 CHINA                | Linear_Regression | MAPE:  0.01%\n",
      "   💱 HONG KONG            | Linear_Regression | MAPE:  0.00%\n",
      "   💱 INDIA                | Linear_Regression | MAPE:  0.06%\n",
      "   💱 KOREA                | Linear_Regression | MAPE:  0.03%\n",
      "   💱 MEXICO               | Linear_Regression | MAPE:  0.19%\n",
      "   💱 SOUTH AFRICA         | Linear_Regression | MAPE:  0.29%\n",
      "   💱 SINGAPORE            | Linear_Regression | MAPE:  0.01%\n",
      "   💱 DENMARK              | Linear_Regression | MAPE:  0.02%\n",
      "   💱 JAPAN                | Linear_Regression | MAPE:  0.02%\n",
      "   💱 MALAYSIA             | Linear_Regression | MAPE:  0.03%\n",
      "   💱 NORWAY               | Linear_Regression | MAPE:  0.09%\n",
      "   💱 SWEDEN               | Linear_Regression | MAPE:  0.05%\n",
      "   💱 SRI LANKA            | Linear_Regression | MAPE:  0.05%\n",
      "   💱 SWITZERLAND          | Linear_Regression | MAPE:  0.05%\n",
      "   💱 TAIWAN               | Linear_Regression | MAPE:  0.01%\n",
      "   💱 THAILAND             | Linear_Regression | MAPE:  0.01%\n",
      "\n",
      "🚀 Ready for deployment!\n",
      "   📱 streamlit run app.py\n",
      "   🐳 docker-compose up --build\n"
     ]
    }
   ],
   "source": [
    "#TRAINING\n",
    "import time\n",
    "import os\n",
    "import pandas as pd\n",
    "import numpy as np\n",
    "from sklearn.preprocessing import StandardScaler\n",
    "from sklearn.ensemble import RandomForestRegressor\n",
    "from sklearn.linear_model import LinearRegression\n",
    "import xgboost as xgb\n",
    "from sklearn.metrics import mean_absolute_error, mean_squared_error, mean_absolute_percentage_error\n",
    "import joblib\n",
    "import warnings\n",
    "warnings.filterwarnings('ignore')\n",
    "\n",
    "def clean_data_ultra_safe(series):\n",
    "    \"\"\"Ultra-safe data cleaning that handles all data type issues\"\"\"\n",
    "    try:\n",
    "        # Convert to numeric, coercing errors to NaN\n",
    "        series = pd.to_numeric(series, errors='coerce')\n",
    "        \n",
    "        # Replace infinite values with NaN\n",
    "        series = series.replace([np.inf, -np.inf], np.nan)\n",
    "        \n",
    "        # Remove any remaining problematic values\n",
    "        series = series.dropna()\n",
    "        \n",
    "        return series\n",
    "    except:\n",
    "        return pd.Series(dtype=float)\n",
    "\n",
    "def create_ultra_safe_features(data, target_col):\n",
    "    \"\"\"Ultra-safe feature engineering with bulletproof data handling\"\"\"\n",
    "    print(f\"🔧 Creating ultra-safe features for {target_col}...\")\n",
    "    \n",
    "    try:\n",
    "        # Extract and clean target column\n",
    "        target_series = data[target_col].copy()\n",
    "        target_series = clean_data_ultra_safe(target_series)\n",
    "        \n",
    "        if len(target_series) < 200:\n",
    "            print(f\"   ⚠️ Insufficient clean data: {len(target_series)} rows\")\n",
    "            return None\n",
    "        \n",
    "        # Create DataFrame with cleaned target\n",
    "        df = pd.DataFrame({'target': target_series})\n",
    "        df.index = target_series.index\n",
    "        \n",
    "        # 1. Basic lag features (ultra-safe)\n",
    "        print(\"   📊 Adding lag features...\")\n",
    "        for lag in [1, 2, 3, 5, 7, 14, 21, 30]:\n",
    "            if lag < len(df) // 4:\n",
    "                lag_series = target_series.shift(lag)\n",
    "                lag_series = clean_data_ultra_safe(lag_series)\n",
    "                df[f'lag_{lag}'] = lag_series\n",
    "        \n",
    "        # 2. Rolling statistics (ultra-safe)\n",
    "        print(\"   📈 Adding rolling statistics...\")\n",
    "        for window in [5, 10, 20, 30]:\n",
    "            if window < len(df) // 3:\n",
    "                try:\n",
    "                    # Rolling mean\n",
    "                    rolling_mean = target_series.rolling(window=window, min_periods=max(1, window//2)).mean()\n",
    "                    rolling_mean = clean_data_ultra_safe(rolling_mean)\n",
    "                    df[f'rolling_mean_{window}'] = rolling_mean\n",
    "                    \n",
    "                    # Rolling std\n",
    "                    rolling_std = target_series.rolling(window=window, min_periods=max(1, window//2)).std()\n",
    "                    rolling_std = clean_data_ultra_safe(rolling_std)\n",
    "                    df[f'rolling_std_{window}'] = rolling_std\n",
    "                    \n",
    "                except:\n",
    "                    continue\n",
    "        \n",
    "        # 3. Simple price changes (ultra-safe)\n",
    "        print(\"   💹 Adding price changes...\")\n",
    "        for period in [1, 7, 14, 30]:\n",
    "            if period < len(df) // 4:\n",
    "                try:\n",
    "                    pct_change = target_series.pct_change(period)\n",
    "                    pct_change = clean_data_ultra_safe(pct_change)\n",
    "                    df[f'price_change_{period}d'] = pct_change\n",
    "                except:\n",
    "                    continue\n",
    "        \n",
    "        # 4. Simple technical indicators (ultra-safe)\n",
    "        print(\"   🔧 Adding technical indicators...\")\n",
    "        try:\n",
    "            if len(df) > 20:\n",
    "                sma_5 = target_series.rolling(5, min_periods=3).mean()\n",
    "                sma_5 = clean_data_ultra_safe(sma_5)\n",
    "                df['sma_5'] = sma_5\n",
    "                \n",
    "                sma_20 = target_series.rolling(20, min_periods=10).mean()\n",
    "                sma_20 = clean_data_ultra_safe(sma_20)\n",
    "                df['sma_20'] = sma_20\n",
    "        except:\n",
    "            pass\n",
    "        \n",
    "        # 5. Simple date features (ultra-safe)\n",
    "        print(\"   📅 Adding date features...\")\n",
    "        try:\n",
    "            df['day_of_week'] = df.index.dayofweek\n",
    "            df['month'] = df.index.month\n",
    "            df['quarter'] = df.index.quarter\n",
    "            \n",
    "            # Simple cyclical encoding\n",
    "            df['month_sin'] = np.sin(2 * np.pi * df['month'] / 12)\n",
    "            df['month_cos'] = np.cos(2 * np.pi * df['month'] / 12)\n",
    "        except:\n",
    "            pass\n",
    "        \n",
    "        # 6. Ultra-safe final cleaning\n",
    "        print(\"   🧹 Final data cleaning...\")\n",
    "        \n",
    "        # Convert all columns to numeric\n",
    "        for col in df.columns:\n",
    "            df[col] = pd.to_numeric(df[col], errors='coerce')\n",
    "        \n",
    "        # Remove infinite and NaN values\n",
    "        df = df.replace([np.inf, -np.inf], np.nan)\n",
    "        df = df.dropna()\n",
    "        \n",
    "        # Rename target column back\n",
    "        df = df.rename(columns={'target': target_col})\n",
    "        \n",
    "        # Final validation\n",
    "        if len(df) < 100:\n",
    "            print(f\"   ⚠️ Not enough clean data after processing: {len(df)} rows\")\n",
    "            return None\n",
    "        \n",
    "        # Check for any remaining data issues\n",
    "        if df.isnull().sum().sum() > 0:\n",
    "            print(f\"   ⚠️ Still contains NaN values\")\n",
    "            return None\n",
    "        \n",
    "        print(f\"   ✅ Success! Features: {len(df.columns)-1}, Samples: {len(df)}\")\n",
    "        return df\n",
    "        \n",
    "    except Exception as e:\n",
    "        print(f\"   ❌ Feature creation failed: {str(e)}\")\n",
    "        return None\n",
    "\n",
    "def train_ultra_safe_models(forex_data):\n",
    "    \"\"\"Ultra-safe model training for all currencies\"\"\"\n",
    "    \n",
    "    all_currencies = forex_data.columns.tolist()\n",
    "    print(f\"🛡️ ULTRA-SAFE TRAINING FOR ALL {len(all_currencies)} CURRENCIES\")\n",
    "    print(\"=\" * 100)\n",
    "    \n",
    "    training_summary = {}\n",
    "    failed_currencies = []\n",
    "    start_time = time.time()\n",
    "    \n",
    "    for i, currency in enumerate(all_currencies, 1):\n",
    "        currency_name = currency.split(' - ')[0] if ' - ' in currency else currency\n",
    "        \n",
    "        print(f\"\\n🚀 [{i:2d}/{len(all_currencies)}] {currency_name}\")\n",
    "        print(\"-\" * 60)\n",
    "        \n",
    "        try:\n",
    "            # Step 1: Ultra-safe feature engineering\n",
    "            currency_df = create_ultra_safe_features(forex_data, currency)\n",
    "            \n",
    "            if currency_df is None:\n",
    "                failed_currencies.append((currency, \"Feature engineering failed\"))\n",
    "                continue\n",
    "            \n",
    "            # Step 2: Ultra-safe data preparation\n",
    "            print(\"   📊 Preparing data...\")\n",
    "            \n",
    "            # Separate features and target with extra safety\n",
    "            try:\n",
    "                X = currency_df.drop(columns=[currency])\n",
    "                y = currency_df[currency]\n",
    "                \n",
    "                # Convert to numpy arrays and ensure proper types\n",
    "                X_values = X.values.astype(np.float64)\n",
    "                y_values = y.values.astype(np.float64)\n",
    "                \n",
    "                # Check for any remaining issues\n",
    "                if np.any(np.isnan(X_values)) or np.any(np.isnan(y_values)):\n",
    "                    print(\"   ❌ NaN values in final data\")\n",
    "                    failed_currencies.append((currency, \"NaN in final data\"))\n",
    "                    continue\n",
    "                \n",
    "                if np.any(np.isinf(X_values)) or np.any(np.isinf(y_values)):\n",
    "                    print(\"   ❌ Infinite values in final data\")\n",
    "                    failed_currencies.append((currency, \"Infinite in final data\"))\n",
    "                    continue\n",
    "                \n",
    "                # Recreate DataFrames with clean data\n",
    "                X = pd.DataFrame(X_values, columns=X.columns, index=X.index)\n",
    "                y = pd.Series(y_values, index=y.index)\n",
    "                \n",
    "            except Exception as e:\n",
    "                print(f\"   ❌ Data preparation error: {str(e)}\")\n",
    "                failed_currencies.append((currency, \"Data prep error\"))\n",
    "                continue\n",
    "            \n",
    "            # Dimension check\n",
    "            if len(X) != len(y):\n",
    "                print(f\"   ❌ Dimension mismatch: X={len(X)}, y={len(y)}\")\n",
    "                failed_currencies.append((currency, \"Dimension mismatch\"))\n",
    "                continue\n",
    "            \n",
    "            if len(X) < 100:\n",
    "                print(f\"   ❌ Insufficient samples: {len(X)}\")\n",
    "                failed_currencies.append((currency, \"Insufficient samples\"))\n",
    "                continue\n",
    "            \n",
    "            # Step 3: Train/test split\n",
    "            split_idx = int(len(X) * 0.8)\n",
    "            X_train, X_test = X.iloc[:split_idx], X.iloc[split_idx:]\n",
    "            y_train, y_test = y.iloc[:split_idx], y.iloc[split_idx:]\n",
    "            \n",
    "            print(f\"   📈 Train: {len(X_train)}, Test: {len(X_test)}, Features: {len(X.columns)}\")\n",
    "            \n",
    "            # Step 4: Train models with ultra-safe error handling\n",
    "            models = {}\n",
    "            results = {}\n",
    "            \n",
    "            # Model 1: Linear Regression\n",
    "            try:\n",
    "                print(\"   🤖 Training Linear Regression...\")\n",
    "                scaler = StandardScaler()\n",
    "                X_train_scaled = scaler.fit_transform(X_train.values)\n",
    "                X_test_scaled = scaler.transform(X_test.values)\n",
    "                \n",
    "                lr_model = LinearRegression()\n",
    "                lr_model.fit(X_train_scaled, y_train.values)\n",
    "                lr_pred = lr_model.predict(X_test_scaled)\n",
    "                \n",
    "                # Ensure predictions are clean\n",
    "                lr_pred = np.array(lr_pred, dtype=np.float64)\n",
    "                y_test_clean = np.array(y_test.values, dtype=np.float64)\n",
    "                \n",
    "                lr_mae = mean_absolute_error(y_test_clean, lr_pred)\n",
    "                lr_mape = mean_absolute_percentage_error(y_test_clean, lr_pred) * 100\n",
    "                \n",
    "                models['Linear_Regression'] = lr_model\n",
    "                results['Linear_Regression'] = {\n",
    "                    'MAE': lr_mae, 'MAPE': lr_mape, 'scaler': scaler\n",
    "                }\n",
    "                print(f\"      ✅ LR - MAPE: {lr_mape:.2f}%\")\n",
    "                \n",
    "            except Exception as e:\n",
    "                print(f\"      ❌ Linear Regression failed: {str(e)}\")\n",
    "            \n",
    "            # Model 2: Random Forest\n",
    "            try:\n",
    "                print(\"   🌳 Training Random Forest...\")\n",
    "                rf_model = RandomForestRegressor(\n",
    "                    n_estimators=100,\n",
    "                    max_depth=10,\n",
    "                    random_state=42,\n",
    "                    n_jobs=1\n",
    "                )\n",
    "                rf_model.fit(X_train.values, y_train.values)\n",
    "                rf_pred = rf_model.predict(X_test.values)\n",
    "                \n",
    "                # Ensure predictions are clean\n",
    "                rf_pred = np.array(rf_pred, dtype=np.float64)\n",
    "                y_test_clean = np.array(y_test.values, dtype=np.float64)\n",
    "                \n",
    "                rf_mae = mean_absolute_error(y_test_clean, rf_pred)\n",
    "                rf_mape = mean_absolute_percentage_error(y_test_clean, rf_pred) * 100\n",
    "                \n",
    "                models['Random_Forest'] = rf_model\n",
    "                results['Random_Forest'] = {\n",
    "                    'MAE': rf_mae, 'MAPE': rf_mape\n",
    "                }\n",
    "                print(f\"      ✅ RF - MAPE: {rf_mape:.2f}%\")\n",
    "                \n",
    "            except Exception as e:\n",
    "                print(f\"      ❌ Random Forest failed: {str(e)}\")\n",
    "            \n",
    "            # Model 3: XGBoost (if no errors so far)\n",
    "            if len(results) > 0:\n",
    "                try:\n",
    "                    print(\"   🚀 Training XGBoost...\")\n",
    "                    xgb_model = xgb.XGBRegressor(\n",
    "                        n_estimators=100,\n",
    "                        max_depth=6,\n",
    "                        learning_rate=0.1,\n",
    "                        random_state=42,\n",
    "                        verbosity=0\n",
    "                    )\n",
    "                    xgb_model.fit(X_train.values, y_train.values)\n",
    "                    xgb_pred = xgb_model.predict(X_test.values)\n",
    "                    \n",
    "                    # Ensure predictions are clean\n",
    "                    xgb_pred = np.array(xgb_pred, dtype=np.float64)\n",
    "                    y_test_clean = np.array(y_test.values, dtype=np.float64)\n",
    "                    \n",
    "                    xgb_mae = mean_absolute_error(y_test_clean, xgb_pred)\n",
    "                    xgb_mape = mean_absolute_percentage_error(y_test_clean, xgb_pred) * 100\n",
    "                    \n",
    "                    models['XGBoost'] = xgb_model\n",
    "                    results['XGBoost'] = {\n",
    "                        'MAE': xgb_mae, 'MAPE': xgb_mape\n",
    "                    }\n",
    "                    print(f\"      ✅ XGB - MAPE: {xgb_mape:.2f}%\")\n",
    "                    \n",
    "                except Exception as e:\n",
    "                    print(f\"      ❌ XGBoost failed: {str(e)}\")\n",
    "            \n",
    "            # Step 5: Select best model and save\n",
    "            if not results:\n",
    "                print(\"   ❌ No models succeeded\")\n",
    "                failed_currencies.append((currency, \"All models failed\"))\n",
    "                continue\n",
    "            \n",
    "            # Find best model\n",
    "            best_model_name = min(results.keys(), key=lambda k: results[k]['MAPE'])\n",
    "            best_performance = results[best_model_name]\n",
    "            \n",
    "            print(f\"   🏆 Best: {best_model_name} (MAPE: {best_performance['MAPE']:.2f}%)\")\n",
    "            \n",
    "            # Save model\n",
    "            os.makedirs('models', exist_ok=True)\n",
    "            safe_name = currency_name.replace(' ', '_').replace('/', '_').replace('-', '_')\n",
    "            model_filename = f\"models/{safe_name}_model.pkl\"\n",
    "            \n",
    "            model_data = {\n",
    "                'model': models[best_model_name],\n",
    "                'model_type': best_model_name,\n",
    "                'target_col': currency,\n",
    "                'currency_name': currency_name,\n",
    "                'performance': best_performance,\n",
    "                'scaler': best_performance.get('scaler'),\n",
    "                'feature_columns': X.columns.tolist(),\n",
    "                'training_date': pd.Timestamp.now()\n",
    "            }\n",
    "            \n",
    "            joblib.dump(model_data, model_filename)\n",
    "            \n",
    "            training_summary[currency] = {\n",
    "                'currency_name': currency_name,\n",
    "                'champion_model': best_model_name,\n",
    "                'performance': best_performance,\n",
    "                'model_file': model_filename\n",
    "            }\n",
    "            \n",
    "            print(f\"   ✅ Saved: {model_filename}\")\n",
    "            \n",
    "        except Exception as e:\n",
    "            print(f\"   ❌ Unexpected error: {str(e)}\")\n",
    "            failed_currencies.append((currency, f\"Unexpected: {str(e)[:30]}\"))\n",
    "    \n",
    "    total_time = time.time() - start_time\n",
    "    return training_summary, failed_currencies, total_time\n",
    "\n",
    "# 🚀 RUN ULTRA-SAFE TRAINING\n",
    "print(\"🛡️ Starting Ultra-Safe Training...\")\n",
    "training_summary, failed_currencies, total_time = train_ultra_safe_models(forex_data)\n",
    "\n",
    "# 📊 RESULTS\n",
    "print(f\"\\n{'='*80}\")\n",
    "print(\"🏁 ULTRA-SAFE TRAINING RESULTS\")\n",
    "print(f\"{'='*80}\")\n",
    "\n",
    "successful = len(training_summary)\n",
    "total = successful + len(failed_currencies)\n",
    "\n",
    "print(f\"\\n📊 SUMMARY:\")\n",
    "print(f\"   ✅ Successful: {successful}/{total}\")\n",
    "print(f\"   📈 Success rate: {successful/total*100:.1f}%\")\n",
    "print(f\"   ⏱️ Time: {total_time/60:.1f} minutes\")\n",
    "\n",
    "if training_summary:\n",
    "    print(f\"\\n🏆 TRAINED MODELS:\")\n",
    "    for currency, info in training_summary.items():\n",
    "        name = info['currency_name']\n",
    "        model = info['champion_model']\n",
    "        mape = info['performance']['MAPE']\n",
    "        print(f\"   💱 {name:20} | {model:15} | MAPE: {mape:5.2f}%\")\n",
    "\n",
    "if failed_currencies:\n",
    "    print(f\"\\n❌ FAILED ({len(failed_currencies)}):\")\n",
    "    for currency, reason in failed_currencies:\n",
    "        name = currency.split(' - ')[0] if ' - ' in currency else currency\n",
    "        print(f\"   • {name:20}: {reason}\")\n",
    "\n",
    "print(f\"\\n🚀 Ready for deployment!\")\n",
    "print(f\"   📱 streamlit run app.py\")\n",
    "print(f\"   🐳 docker-compose up --build\")"
   ]
  },
  {
   "cell_type": "code",
   "execution_count": 8,
   "id": "d3deada4-3843-4725-ac28-5bcce65689dc",
   "metadata": {},
   "outputs": [
    {
     "name": "stdout",
     "output_type": "stream",
     "text": [
      "🚀 STARTING FIXED COMPREHENSIVE PERFORMANCE ANALYSIS\n",
      "================================================================================\n",
      "📂 Loading all trained models...\n",
      "✅ Loaded 22 trained models\n",
      "✅ Found 22 trained models to analyze\n",
      "\n",
      "📊 Creating Performance Dashboard...\n",
      "📊 Creating performance dashboard with Matplotlib...\n"
     ]
    },
    {
     "data": {
      "image/png": "[encoded data removed]",
      "text/plain": [
       "<Figure size 2400x1800 with 11 Axes>"
      ]
     },
     "metadata": {},
     "output_type": "display_data"
    },
    {
     "name": "stdout",
     "output_type": "stream",
     "text": [
      "\n",
      "📊 Creating Interactive Plotly Charts...\n",
      "📊 Creating individual Plotly charts...\n"
     ]
    },
    {
     "data": {
      "application/vnd.plotly.v1+json": {
       "config": {
        "plotlyServerURL": "https://plot.ly"
       },
       "data": [
        {
         "hovertemplate": "<b>%{y}</b><br>MAPE: %{x:.2f}%<extra></extra>",
         "marker": {
          "color": [
           "gold",
           "silver",
           "#CD7F32",
           "lightblue",
           "lightblue",
           "lightblue",
           "lightblue",
           "lightblue",
           "lightblue",
           "lightblue",
           "lightblue",
           "lightblue",
           "lightblue",
           "lightblue",
           "lightblue",
           "lightblue",
           "lightblue",
           "lightblue",
           "lightblue",
           "lightblue",
           "lightblue",
           "lightblue"
          ]
         },
         "orientation": "h",
         "text": [
          "0.00%",
          "0.01%",
          "0.01%",
          "0.01%",
          "0.01%",
          "0.02%",
          "0.02%",
          "0.02%",
          "0.03%",
          "0.03%",
          "0.03%",
          "0.04%",
          "0.05%",
          "0.05%",
          "0.05%",
          "0.05%",
          "0.06%",
          "0.08%",
          "0.09%",
          "0.19%",
          "0.19%",
          "0.29%"
         ],
         "textposition": "auto",
         "type": "bar",
         "x": {
          "bdata": "6MinvkhYIT82LptvTIuAP48OAh2ABIE/XlqZs0RRjT/qQU5v+5KOP7DAgGisYJg/BrvXLAyTmD+zXX+LpkiZPyj96ifuU5w//256cD5uoD/iO24kIeChP2PZVBLf1KI/qdd9CoO4qD+/uVENyR2pPxHqONIvtqk/m+ThDDjxqz++ljR2IeauP5A6G5wEObQ/yVCEo3oYtj/8b9K16RnIP9MUaDXdG8g/7tcSMRZx0j8=",
          "dtype": "f8"
         },
         "y": [
          "HONG KONG",
          "CHINA",
          "TAIWAN",
          "THAILAND",
          "SINGAPORE",
          "DENMARK",
          "JAPAN",
          "EURO AREA",
          "AUSTRALIA",
          "KOREA",
          "MALAYSIA",
          "CANADA",
          "SWEDEN",
          "NEW ZEALAND",
          "SRI LANKA",
          "SWITZERLAND",
          "INDIA",
          "UNITED KINGDOM",
          "NORWAY",
          "MEXICO",
          "BRAZIL",
          "SOUTH AFRICA"
         ]
        }
       ],
       "layout": {
        "height": 600,
        "showlegend": false,
        "template": {
         "data": {
          "bar": [
           {
            "error_x": {
             "color": "#2a3f5f"
            },
            "error_y": {
             "color": "#2a3f5f"
            },
            "marker": {
             "line": {
              "color": "#E5ECF6",
              "width": 0.5
             },
             "pattern": {
              "fillmode": "overlay",
              "size": 10,
              "solidity": 0.2
             }
            },
            "type": "bar"
           }
          ],
          "barpolar": [
           {
            "marker": {
             "line": {
              "color": "#E5ECF6",
              "width": 0.5
             },
             "pattern": {
              "fillmode": "overlay",
              "size": 10,
              "solidity": 0.2
             }
            },
            "type": "barpolar"
           }
          ],
          "carpet": [
           {
            "aaxis": {
             "endlinecolor": "#2a3f5f",
             "gridcolor": "white",
             "linecolor": "white",
             "minorgridcolor": "white",
             "startlinecolor": "#2a3f5f"
            },
            "baxis": {
             "endlinecolor": "#2a3f5f",
             "gridcolor": "white",
             "linecolor": "white",
             "minorgridcolor": "white",
             "startlinecolor": "#2a3f5f"
            },
            "type": "carpet"
           }
          ],
          "choropleth": [
           {
            "colorbar": {
             "outlinewidth": 0,
             "ticks": ""
            },
            "type": "choropleth"
           }
          ],
          "contour": [
           {
            "colorbar": {
             "outlinewidth": 0,
             "ticks": ""
            },
            "colorscale": [
             [
              0,
              "#0d0887"
             ],
             [
              0.1111111111111111,
              "#46039f"
             ],
             [
              0.2222222222222222,
              "#7201a8"
             ],
             [
              0.3333333333333333,
              "#9c179e"
             ],
             [
              0.4444444444444444,
              "#bd3786"
             ],
             [
              0.5555555555555556,
              "#d8576b"
             ],
             [
              0.6666666666666666,
              "#ed7953"
             ],
             [
              0.7777777777777778,
              "#fb9f3a"
             ],
             [
              0.8888888888888888,
              "#fdca26"
             ],
             [
              1,
              "#f0f921"
             ]
            ],
            "type": "contour"
           }
          ],
          "contourcarpet": [
           {
            "colorbar": {
             "outlinewidth": 0,
             "ticks": ""
            },
            "type": "contourcarpet"
           }
          ],
          "heatmap": [
           {
            "colorbar": {
             "outlinewidth": 0,
             "ticks": ""
            },
            "colorscale": [
             [
              0,
              "#0d0887"
             ],
             [
              0.1111111111111111,
              "#46039f"
             ],
             [
              0.2222222222222222,
              "#7201a8"
             ],
             [
              0.3333333333333333,
              "#9c179e"
             ],
             [
              0.4444444444444444,
              "#bd3786"
             ],
             [
              0.5555555555555556,
              "#d8576b"
             ],
             [
              0.6666666666666666,
              "#ed7953"
             ],
             [
              0.7777777777777778,
              "#fb9f3a"
             ],
             [
              0.8888888888888888,
              "#fdca26"
             ],
             [
              1,
              "#f0f921"
             ]
            ],
            "type": "heatmap"
           }
          ],
          "histogram": [
           {
            "marker": {
             "pattern": {
              "fillmode": "overlay",
              "size": 10,
              "solidity": 0.2
             }
            },
            "type": "histogram"
           }
          ],
          "histogram2d": [
           {
            "colorbar": {
             "outlinewidth": 0,
             "ticks": ""
            },
            "colorscale": [
             [
              0,
              "#0d0887"
             ],
             [
              0.1111111111111111,
              "#46039f"
             ],
             [
              0.2222222222222222,
              "#7201a8"
             ],
             [
              0.3333333333333333,
              "#9c179e"
             ],
             [
              0.4444444444444444,
              "#bd3786"
             ],
             [
              0.5555555555555556,
              "#d8576b"
             ],
             [
              0.6666666666666666,
              "#ed7953"
             ],
             [
              0.7777777777777778,
              "#fb9f3a"
             ],
             [
              0.8888888888888888,
              "#fdca26"
             ],
             [
              1,
              "#f0f921"
             ]
            ],
            "type": "histogram2d"
           }
          ],
          "histogram2dcontour": [
           {
            "colorbar": {
             "outlinewidth": 0,
             "ticks": ""
            },
            "colorscale": [
             [
              0,
              "#0d0887"
             ],
             [
              0.1111111111111111,
              "#46039f"
             ],
             [
              0.2222222222222222,
              "#7201a8"
             ],
             [
              0.3333333333333333,
              "#9c179e"
             ],
             [
              0.4444444444444444,
              "#bd3786"
             ],
             [
              0.5555555555555556,
              "#d8576b"
             ],
             [
              0.6666666666666666,
              "#ed7953"
             ],
             [
              0.7777777777777778,
              "#fb9f3a"
             ],
             [
              0.8888888888888888,
              "#fdca26"
             ],
             [
              1,
              "#f0f921"
             ]
            ],
            "type": "histogram2dcontour"
           }
          ],
          "mesh3d": [
           {
            "colorbar": {
             "outlinewidth": 0,
             "ticks": ""
            },
            "type": "mesh3d"
           }
          ],
          "parcoords": [
           {
            "line": {
             "colorbar": {
              "outlinewidth": 0,
              "ticks": ""
             }
            },
            "type": "parcoords"
           }
          ],
          "pie": [
           {
            "automargin": true,
            "type": "pie"
           }
          ],
          "scatter": [
           {
            "fillpattern": {
             "fillmode": "overlay",
             "size": 10,
             "solidity": 0.2
            },
            "type": "scatter"
           }
          ],
          "scatter3d": [
           {
            "line": {
             "colorbar": {
              "outlinewidth": 0,
              "ticks": ""
             }
            },
            "marker": {
             "colorbar": {
              "outlinewidth": 0,
              "ticks": ""
             }
            },
            "type": "scatter3d"
           }
          ],
          "scattercarpet": [
           {
            "marker": {
             "colorbar": {
              "outlinewidth": 0,
              "ticks": ""
             }
            },
            "type": "scattercarpet"
           }
          ],
          "scattergeo": [
           {
            "marker": {
             "colorbar": {
              "outlinewidth": 0,
              "ticks": ""
             }
            },
            "type": "scattergeo"
           }
          ],
          "scattergl": [
           {
            "marker": {
             "colorbar": {
              "outlinewidth": 0,
              "ticks": ""
             }
            },
            "type": "scattergl"
           }
          ],
          "scattermap": [
           {
            "marker": {
             "colorbar": {
              "outlinewidth": 0,
              "ticks": ""
             }
            },
            "type": "scattermap"
           }
          ],
          "scattermapbox": [
           {
            "marker": {
             "colorbar": {
              "outlinewidth": 0,
              "ticks": ""
             }
            },
            "type": "scattermapbox"
           }
          ],
          "scatterpolar": [
           {
            "marker": {
             "colorbar": {
              "outlinewidth": 0,
              "ticks": ""
             }
            },
            "type": "scatterpolar"
           }
          ],
          "scatterpolargl": [
           {
            "marker": {
             "colorbar": {
              "outlinewidth": 0,
              "ticks": ""
             }
            },
            "type": "scatterpolargl"
           }
          ],
          "scatterternary": [
           {
            "marker": {
             "colorbar": {
              "outlinewidth": 0,
              "ticks": ""
             }
            },
            "type": "scatterternary"
           }
          ],
          "surface": [
           {
            "colorbar": {
             "outlinewidth": 0,
             "ticks": ""
            },
            "colorscale": [
             [
              0,
              "#0d0887"
             ],
             [
              0.1111111111111111,
              "#46039f"
             ],
             [
              0.2222222222222222,
              "#7201a8"
             ],
             [
              0.3333333333333333,
              "#9c179e"
             ],
             [
              0.4444444444444444,
              "#bd3786"
             ],
             [
              0.5555555555555556,
              "#d8576b"
             ],
             [
              0.6666666666666666,
              "#ed7953"
             ],
             [
              0.7777777777777778,
              "#fb9f3a"
             ],
             [
              0.8888888888888888,
              "#fdca26"
             ],
             [
              1,
              "#f0f921"
             ]
            ],
            "type": "surface"
           }
          ],
          "table": [
           {
            "cells": {
             "fill": {
              "color": "#EBF0F8"
             },
             "line": {
              "color": "white"
             }
            },
            "header": {
             "fill": {
              "color": "#C8D4E3"
             },
             "line": {
              "color": "white"
             }
            },
            "type": "table"
           }
          ]
         },
         "layout": {
          "annotationdefaults": {
           "arrowcolor": "#2a3f5f",
           "arrowhead": 0,
           "arrowwidth": 1
          },
          "autotypenumbers": "strict",
          "coloraxis": {
           "colorbar": {
            "outlinewidth": 0,
            "ticks": ""
           }
          },
          "colorscale": {
           "diverging": [
            [
             0,
             "#8e0152"
            ],
            [
             0.1,
             "#c51b7d"
            ],
            [
             0.2,
             "#de77ae"
            ],
            [
             0.3,
             "#f1b6da"
            ],
            [
             0.4,
             "#fde0ef"
            ],
            [
             0.5,
             "#f7f7f7"
            ],
            [
             0.6,
             "#e6f5d0"
            ],
            [
             0.7,
             "#b8e186"
            ],
            [
             0.8,
             "#7fbc41"
            ],
            [
             0.9,
             "#4d9221"
            ],
            [
             1,
             "#276419"
            ]
           ],
           "sequential": [
            [
             0,
             "#0d0887"
            ],
            [
             0.1111111111111111,
             "#46039f"
            ],
            [
             0.2222222222222222,
             "#7201a8"
            ],
            [
             0.3333333333333333,
             "#9c179e"
            ],
            [
             0.4444444444444444,
             "#bd3786"
            ],
            [
             0.5555555555555556,
             "#d8576b"
            ],
            [
             0.6666666666666666,
             "#ed7953"
            ],
            [
             0.7777777777777778,
             "#fb9f3a"
            ],
            [
             0.8888888888888888,
             "#fdca26"
            ],
            [
             1,
             "#f0f921"
            ]
           ],
           "sequentialminus": [
            [
             0,
             "#0d0887"
            ],
            [
             0.1111111111111111,
             "#46039f"
            ],
            [
             0.2222222222222222,
             "#7201a8"
            ],
            [
             0.3333333333333333,
             "#9c179e"
            ],
            [
             0.4444444444444444,
             "#bd3786"
            ],
            [
             0.5555555555555556,
             "#d8576b"
            ],
            [
             0.6666666666666666,
             "#ed7953"
            ],
            [
             0.7777777777777778,
             "#fb9f3a"
            ],
            [
             0.8888888888888888,
             "#fdca26"
            ],
            [
             1,
             "#f0f921"
            ]
           ]
          },
          "colorway": [
           "#636efa",
           "#EF553B",
           "#00cc96",
           "#ab63fa",
           "#FFA15A",
           "#19d3f3",
           "#FF6692",
           "#B6E880",
           "#FF97FF",
           "#FECB52"
          ],
          "font": {
           "color": "#2a3f5f"
          },
          "geo": {
           "bgcolor": "white",
           "lakecolor": "white",
           "landcolor": "#E5ECF6",
           "showlakes": true,
           "showland": true,
           "subunitcolor": "white"
          },
          "hoverlabel": {
           "align": "left"
          },
          "hovermode": "closest",
          "mapbox": {
           "style": "light"
          },
          "paper_bgcolor": "white",
          "plot_bgcolor": "#E5ECF6",
          "polar": {
           "angularaxis": {
            "gridcolor": "white",
            "linecolor": "white",
            "ticks": ""
           },
           "bgcolor": "#E5ECF6",
           "radialaxis": {
            "gridcolor": "white",
            "linecolor": "white",
            "ticks": ""
           }
          },
          "scene": {
           "xaxis": {
            "backgroundcolor": "#E5ECF6",
            "gridcolor": "white",
            "gridwidth": 2,
            "linecolor": "white",
            "showbackground": true,
            "ticks": "",
            "zerolinecolor": "white"
           },
           "yaxis": {
            "backgroundcolor": "#E5ECF6",
            "gridcolor": "white",
            "gridwidth": 2,
            "linecolor": "white",
            "showbackground": true,
            "ticks": "",
            "zerolinecolor": "white"
           },
           "zaxis": {
            "backgroundcolor": "#E5ECF6",
            "gridcolor": "white",
            "gridwidth": 2,
            "linecolor": "white",
            "showbackground": true,
            "ticks": "",
            "zerolinecolor": "white"
           }
          },
          "shapedefaults": {
           "line": {
            "color": "#2a3f5f"
           }
          },
          "ternary": {
           "aaxis": {
            "gridcolor": "white",
            "linecolor": "white",
            "ticks": ""
           },
           "baxis": {
            "gridcolor": "white",
            "linecolor": "white",
            "ticks": ""
           },
           "bgcolor": "#E5ECF6",
           "caxis": {
            "gridcolor": "white",
            "linecolor": "white",
            "ticks": ""
           }
          },
          "title": {
           "x": 0.05
          },
          "xaxis": {
           "automargin": true,
           "gridcolor": "white",
           "linecolor": "white",
           "ticks": "",
           "title": {
            "standoff": 15
           },
           "zerolinecolor": "white",
           "zerolinewidth": 2
          },
          "yaxis": {
           "automargin": true,
           "gridcolor": "white",
           "linecolor": "white",
           "ticks": "",
           "title": {
            "standoff": 15
           },
           "zerolinecolor": "white",
           "zerolinewidth": 2
          }
         }
        },
        "title": {
         "text": "🏆 Interactive Model Performance Ranking"
        },
        "xaxis": {
         "title": {
          "text": "MAPE (%)"
         }
        },
        "yaxis": {
         "title": {
          "text": "Currency"
         }
        }
       }
      },
      "image/png": "[encoded data removed]"
     },
     "metadata": {},
     "output_type": "display_data"
    },
    {
     "data": {
      "application/vnd.plotly.v1+json": {
       "config": {
        "plotlyServerURL": "https://plot.ly"
       },
       "data": [
        {
         "hovertemplate": "<b>%{text}</b><br>Training Time: %{x:.1f}s<br>MAPE: %{y:.2f}%<extra></extra>",
         "marker": {
          "color": {
           "bdata": "AAAAAAAAAAAAAAAAAAAAAAAAAAAAAA==",
           "dtype": "i1"
          },
          "colorbar": {
           "title": {
            "text": "R² Score"
           }
          },
          "colorscale": [
           [
            0,
            "#440154"
           ],
           [
            0.1111111111111111,
            "#482878"
           ],
           [
            0.2222222222222222,
            "#3e4989"
           ],
           [
            0.3333333333333333,
            "#31688e"
           ],
           [
            0.4444444444444444,
            "#26828e"
           ],
           [
            0.5555555555555556,
            "#1f9e89"
           ],
           [
            0.6666666666666666,
            "#35b779"
           ],
           [
            0.7777777777777778,
            "#6ece58"
           ],
           [
            0.8888888888888888,
            "#b5de2b"
           ],
           [
            1,
            "#fde725"
           ]
          ],
          "showscale": true,
          "size": 12
         },
         "mode": "markers+text",
         "text": [
          "HONG KONG",
          "CHINA",
          "TAIWAN",
          "THAILAND",
          "SINGAPORE",
          "DENMARK",
          "JAPAN",
          "EURO AREA",
          "AUSTRALIA",
          "KOREA",
          "MALAYSIA",
          "CANADA",
          "SWEDEN",
          "NEW ZEALAND",
          "SRI LANKA",
          "SWITZERLAND",
          "INDIA",
          "UNITED KINGDOM",
          "NORWAY",
          "MEXICO",
          "BRAZIL",
          "SOUTH AFRICA"
         ],
         "textposition": "top center",
         "type": "scatter",
         "x": {
          "bdata": "AAAAAAAAAAAAAAAAAAAAAAAAAAAAAA==",
          "dtype": "i1"
         },
         "y": {
          "bdata": "6MinvkhYIT82LptvTIuAP48OAh2ABIE/XlqZs0RRjT/qQU5v+5KOP7DAgGisYJg/BrvXLAyTmD+zXX+LpkiZPyj96ifuU5w//256cD5uoD/iO24kIeChP2PZVBLf1KI/qdd9CoO4qD+/uVENyR2pPxHqONIvtqk/m+ThDDjxqz++ljR2IeauP5A6G5wEObQ/yVCEo3oYtj/8b9K16RnIP9MUaDXdG8g/7tcSMRZx0j8=",
          "dtype": "f8"
         }
        }
       ],
       "layout": {
        "height": 600,
        "template": {
         "data": {
          "bar": [
           {
            "error_x": {
             "color": "#2a3f5f"
            },
            "error_y": {
             "color": "#2a3f5f"
            },
            "marker": {
             "line": {
              "color": "#E5ECF6",
              "width": 0.5
             },
             "pattern": {
              "fillmode": "overlay",
              "size": 10,
              "solidity": 0.2
             }
            },
            "type": "bar"
           }
          ],
          "barpolar": [
           {
            "marker": {
             "line": {
              "color": "#E5ECF6",
              "width": 0.5
             },
             "pattern": {
              "fillmode": "overlay",
              "size": 10,
              "solidity": 0.2
             }
            },
            "type": "barpolar"
           }
          ],
          "carpet": [
           {
            "aaxis": {
             "endlinecolor": "#2a3f5f",
             "gridcolor": "white",
             "linecolor": "white",
             "minorgridcolor": "white",
             "startlinecolor": "#2a3f5f"
            },
            "baxis": {
             "endlinecolor": "#2a3f5f",
             "gridcolor": "white",
             "linecolor": "white",
             "minorgridcolor": "white",
             "startlinecolor": "#2a3f5f"
            },
            "type": "carpet"
           }
          ],
          "choropleth": [
           {
            "colorbar": {
             "outlinewidth": 0,
             "ticks": ""
            },
            "type": "choropleth"
           }
          ],
          "contour": [
           {
            "colorbar": {
             "outlinewidth": 0,
             "ticks": ""
            },
            "colorscale": [
             [
              0,
              "#0d0887"
             ],
             [
              0.1111111111111111,
              "#46039f"
             ],
             [
              0.2222222222222222,
              "#7201a8"
             ],
             [
              0.3333333333333333,
              "#9c179e"
             ],
             [
              0.4444444444444444,
              "#bd3786"
             ],
             [
              0.5555555555555556,
              "#d8576b"
             ],
             [
              0.6666666666666666,
              "#ed7953"
             ],
             [
              0.7777777777777778,
              "#fb9f3a"
             ],
             [
              0.8888888888888888,
              "#fdca26"
             ],
             [
              1,
              "#f0f921"
             ]
            ],
            "type": "contour"
           }
          ],
          "contourcarpet": [
           {
            "colorbar": {
             "outlinewidth": 0,
             "ticks": ""
            },
            "type": "contourcarpet"
           }
          ],
          "heatmap": [
           {
            "colorbar": {
             "outlinewidth": 0,
             "ticks": ""
            },
            "colorscale": [
             [
              0,
              "#0d0887"
             ],
             [
              0.1111111111111111,
              "#46039f"
             ],
             [
              0.2222222222222222,
              "#7201a8"
             ],
             [
              0.3333333333333333,
              "#9c179e"
             ],
             [
              0.4444444444444444,
              "#bd3786"
             ],
             [
              0.5555555555555556,
              "#d8576b"
             ],
             [
              0.6666666666666666,
              "#ed7953"
             ],
             [
              0.7777777777777778,
              "#fb9f3a"
             ],
             [
              0.8888888888888888,
              "#fdca26"
             ],
             [
              1,
              "#f0f921"
             ]
            ],
            "type": "heatmap"
           }
          ],
          "histogram": [
           {
            "marker": {
             "pattern": {
              "fillmode": "overlay",
              "size": 10,
              "solidity": 0.2
             }
            },
            "type": "histogram"
           }
          ],
          "histogram2d": [
           {
            "colorbar": {
             "outlinewidth": 0,
             "ticks": ""
            },
            "colorscale": [
             [
              0,
              "#0d0887"
             ],
             [
              0.1111111111111111,
              "#46039f"
             ],
             [
              0.2222222222222222,
              "#7201a8"
             ],
             [
              0.3333333333333333,
              "#9c179e"
             ],
             [
              0.4444444444444444,
              "#bd3786"
             ],
             [
              0.5555555555555556,
              "#d8576b"
             ],
             [
              0.6666666666666666,
              "#ed7953"
             ],
             [
              0.7777777777777778,
              "#fb9f3a"
             ],
             [
              0.8888888888888888,
              "#fdca26"
             ],
             [
              1,
              "#f0f921"
             ]
            ],
            "type": "histogram2d"
           }
          ],
          "histogram2dcontour": [
           {
            "colorbar": {
             "outlinewidth": 0,
             "ticks": ""
            },
            "colorscale": [
             [
              0,
              "#0d0887"
             ],
             [
              0.1111111111111111,
              "#46039f"
             ],
             [
              0.2222222222222222,
              "#7201a8"
             ],
             [
              0.3333333333333333,
              "#9c179e"
             ],
             [
              0.4444444444444444,
              "#bd3786"
             ],
             [
              0.5555555555555556,
              "#d8576b"
             ],
             [
              0.6666666666666666,
              "#ed7953"
             ],
             [
              0.7777777777777778,
              "#fb9f3a"
             ],
             [
              0.8888888888888888,
              "#fdca26"
             ],
             [
              1,
              "#f0f921"
             ]
            ],
            "type": "histogram2dcontour"
           }
          ],
          "mesh3d": [
           {
            "colorbar": {
             "outlinewidth": 0,
             "ticks": ""
            },
            "type": "mesh3d"
           }
          ],
          "parcoords": [
           {
            "line": {
             "colorbar": {
              "outlinewidth": 0,
              "ticks": ""
             }
            },
            "type": "parcoords"
           }
          ],
          "pie": [
           {
            "automargin": true,
            "type": "pie"
           }
          ],
          "scatter": [
           {
            "fillpattern": {
             "fillmode": "overlay",
             "size": 10,
             "solidity": 0.2
            },
            "type": "scatter"
           }
          ],
          "scatter3d": [
           {
            "line": {
             "colorbar": {
              "outlinewidth": 0,
              "ticks": ""
             }
            },
            "marker": {
             "colorbar": {
              "outlinewidth": 0,
              "ticks": ""
             }
            },
            "type": "scatter3d"
           }
          ],
          "scattercarpet": [
           {
            "marker": {
             "colorbar": {
              "outlinewidth": 0,
              "ticks": ""
             }
            },
            "type": "scattercarpet"
           }
          ],
          "scattergeo": [
           {
            "marker": {
             "colorbar": {
              "outlinewidth": 0,
              "ticks": ""
             }
            },
            "type": "scattergeo"
           }
          ],
          "scattergl": [
           {
            "marker": {
             "colorbar": {
              "outlinewidth": 0,
              "ticks": ""
             }
            },
            "type": "scattergl"
           }
          ],
          "scattermap": [
           {
            "marker": {
             "colorbar": {
              "outlinewidth": 0,
              "ticks": ""
             }
            },
            "type": "scattermap"
           }
          ],
          "scattermapbox": [
           {
            "marker": {
             "colorbar": {
              "outlinewidth": 0,
              "ticks": ""
             }
            },
            "type": "scattermapbox"
           }
          ],
          "scatterpolar": [
           {
            "marker": {
             "colorbar": {
              "outlinewidth": 0,
              "ticks": ""
             }
            },
            "type": "scatterpolar"
           }
          ],
          "scatterpolargl": [
           {
            "marker": {
             "colorbar": {
              "outlinewidth": 0,
              "ticks": ""
             }
            },
            "type": "scatterpolargl"
           }
          ],
          "scatterternary": [
           {
            "marker": {
             "colorbar": {
              "outlinewidth": 0,
              "ticks": ""
             }
            },
            "type": "scatterternary"
           }
          ],
          "surface": [
           {
            "colorbar": {
             "outlinewidth": 0,
             "ticks": ""
            },
            "colorscale": [
             [
              0,
              "#0d0887"
             ],
             [
              0.1111111111111111,
              "#46039f"
             ],
             [
              0.2222222222222222,
              "#7201a8"
             ],
             [
              0.3333333333333333,
              "#9c179e"
             ],
             [
              0.4444444444444444,
              "#bd3786"
             ],
             [
              0.5555555555555556,
              "#d8576b"
             ],
             [
              0.6666666666666666,
              "#ed7953"
             ],
             [
              0.7777777777777778,
              "#fb9f3a"
             ],
             [
              0.8888888888888888,
              "#fdca26"
             ],
             [
              1,
              "#f0f921"
             ]
            ],
            "type": "surface"
           }
          ],
          "table": [
           {
            "cells": {
             "fill": {
              "color": "#EBF0F8"
             },
             "line": {
              "color": "white"
             }
            },
            "header": {
             "fill": {
              "color": "#C8D4E3"
             },
             "line": {
              "color": "white"
             }
            },
            "type": "table"
           }
          ]
         },
         "layout": {
          "annotationdefaults": {
           "arrowcolor": "#2a3f5f",
           "arrowhead": 0,
           "arrowwidth": 1
          },
          "autotypenumbers": "strict",
          "coloraxis": {
           "colorbar": {
            "outlinewidth": 0,
            "ticks": ""
           }
          },
          "colorscale": {
           "diverging": [
            [
             0,
             "#8e0152"
            ],
            [
             0.1,
             "#c51b7d"
            ],
            [
             0.2,
             "#de77ae"
            ],
            [
             0.3,
             "#f1b6da"
            ],
            [
             0.4,
             "#fde0ef"
            ],
            [
             0.5,
             "#f7f7f7"
            ],
            [
             0.6,
             "#e6f5d0"
            ],
            [
             0.7,
             "#b8e186"
            ],
            [
             0.8,
             "#7fbc41"
            ],
            [
             0.9,
             "#4d9221"
            ],
            [
             1,
             "#276419"
            ]
           ],
           "sequential": [
            [
             0,
             "#0d0887"
            ],
            [
             0.1111111111111111,
             "#46039f"
            ],
            [
             0.2222222222222222,
             "#7201a8"
            ],
            [
             0.3333333333333333,
             "#9c179e"
            ],
            [
             0.4444444444444444,
             "#bd3786"
            ],
            [
             0.5555555555555556,
             "#d8576b"
            ],
            [
             0.6666666666666666,
             "#ed7953"
            ],
            [
             0.7777777777777778,
             "#fb9f3a"
            ],
            [
             0.8888888888888888,
             "#fdca26"
            ],
            [
             1,
             "#f0f921"
            ]
           ],
           "sequentialminus": [
            [
             0,
             "#0d0887"
            ],
            [
             0.1111111111111111,
             "#46039f"
            ],
            [
             0.2222222222222222,
             "#7201a8"
            ],
            [
             0.3333333333333333,
             "#9c179e"
            ],
            [
             0.4444444444444444,
             "#bd3786"
            ],
            [
             0.5555555555555556,
             "#d8576b"
            ],
            [
             0.6666666666666666,
             "#ed7953"
            ],
            [
             0.7777777777777778,
             "#fb9f3a"
            ],
            [
             0.8888888888888888,
             "#fdca26"
            ],
            [
             1,
             "#f0f921"
            ]
           ]
          },
          "colorway": [
           "#636efa",
           "#EF553B",
           "#00cc96",
           "#ab63fa",
           "#FFA15A",
           "#19d3f3",
           "#FF6692",
           "#B6E880",
           "#FF97FF",
           "#FECB52"
          ],
          "font": {
           "color": "#2a3f5f"
          },
          "geo": {
           "bgcolor": "white",
           "lakecolor": "white",
           "landcolor": "#E5ECF6",
           "showlakes": true,
           "showland": true,
           "subunitcolor": "white"
          },
          "hoverlabel": {
           "align": "left"
          },
          "hovermode": "closest",
          "mapbox": {
           "style": "light"
          },
          "paper_bgcolor": "white",
          "plot_bgcolor": "#E5ECF6",
          "polar": {
           "angularaxis": {
            "gridcolor": "white",
            "linecolor": "white",
            "ticks": ""
           },
           "bgcolor": "#E5ECF6",
           "radialaxis": {
            "gridcolor": "white",
            "linecolor": "white",
            "ticks": ""
           }
          },
          "scene": {
           "xaxis": {
            "backgroundcolor": "#E5ECF6",
            "gridcolor": "white",
            "gridwidth": 2,
            "linecolor": "white",
            "showbackground": true,
            "ticks": "",
            "zerolinecolor": "white"
           },
           "yaxis": {
            "backgroundcolor": "#E5ECF6",
            "gridcolor": "white",
            "gridwidth": 2,
            "linecolor": "white",
            "showbackground": true,
            "ticks": "",
            "zerolinecolor": "white"
           },
           "zaxis": {
            "backgroundcolor": "#E5ECF6",
            "gridcolor": "white",
            "gridwidth": 2,
            "linecolor": "white",
            "showbackground": true,
            "ticks": "",
            "zerolinecolor": "white"
           }
          },
          "shapedefaults": {
           "line": {
            "color": "#2a3f5f"
           }
          },
          "ternary": {
           "aaxis": {
            "gridcolor": "white",
            "linecolor": "white",
            "ticks": ""
           },
           "baxis": {
            "gridcolor": "white",
            "linecolor": "white",
            "ticks": ""
           },
           "bgcolor": "#E5ECF6",
           "caxis": {
            "gridcolor": "white",
            "linecolor": "white",
            "ticks": ""
           }
          },
          "title": {
           "x": 0.05
          },
          "xaxis": {
           "automargin": true,
           "gridcolor": "white",
           "linecolor": "white",
           "ticks": "",
           "title": {
            "standoff": 15
           },
           "zerolinecolor": "white",
           "zerolinewidth": 2
          },
          "yaxis": {
           "automargin": true,
           "gridcolor": "white",
           "linecolor": "white",
           "ticks": "",
           "title": {
            "standoff": 15
           },
           "zerolinecolor": "white",
           "zerolinewidth": 2
          }
         }
        },
        "title": {
         "text": "⏱️ Interactive Training Time vs Performance"
        },
        "xaxis": {
         "title": {
          "text": "Training Time (seconds)"
         }
        },
        "yaxis": {
         "title": {
          "text": "MAPE (%)"
         }
        }
       }
      },
      "image/png": "[encoded data removed]"
     },
     "metadata": {},
     "output_type": "display_data"
    },
    {
     "data": {
      "application/vnd.plotly.v1+json": {
       "config": {
        "plotlyServerURL": "https://plot.ly"
       },
       "data": [
        {
         "hole": 0.3,
         "hovertemplate": "<b>%{label}</b><br>Count: %{value}<br>Percentage: %{percent}<extra></extra>",
         "labels": [
          "Linear_Regression"
         ],
         "type": "pie",
         "values": {
          "bdata": "Fg==",
          "dtype": "i1"
         }
        }
       ],
       "layout": {
        "height": 500,
        "template": {
         "data": {
          "bar": [
           {
            "error_x": {
             "color": "#2a3f5f"
            },
            "error_y": {
             "color": "#2a3f5f"
            },
            "marker": {
             "line": {
              "color": "#E5ECF6",
              "width": 0.5
             },
             "pattern": {
              "fillmode": "overlay",
              "size": 10,
              "solidity": 0.2
             }
            },
            "type": "bar"
           }
          ],
          "barpolar": [
           {
            "marker": {
             "line": {
              "color": "#E5ECF6",
              "width": 0.5
             },
             "pattern": {
              "fillmode": "overlay",
              "size": 10,
              "solidity": 0.2
             }
            },
            "type": "barpolar"
           }
          ],
          "carpet": [
           {
            "aaxis": {
             "endlinecolor": "#2a3f5f",
             "gridcolor": "white",
             "linecolor": "white",
             "minorgridcolor": "white",
             "startlinecolor": "#2a3f5f"
            },
            "baxis": {
             "endlinecolor": "#2a3f5f",
             "gridcolor": "white",
             "linecolor": "white",
             "minorgridcolor": "white",
             "startlinecolor": "#2a3f5f"
            },
            "type": "carpet"
           }
          ],
          "choropleth": [
           {
            "colorbar": {
             "outlinewidth": 0,
             "ticks": ""
            },
            "type": "choropleth"
           }
          ],
          "contour": [
           {
            "colorbar": {
             "outlinewidth": 0,
             "ticks": ""
            },
            "colorscale": [
             [
              0,
              "#0d0887"
             ],
             [
              0.1111111111111111,
              "#46039f"
             ],
             [
              0.2222222222222222,
              "#7201a8"
             ],
             [
              0.3333333333333333,
              "#9c179e"
             ],
             [
              0.4444444444444444,
              "#bd3786"
             ],
             [
              0.5555555555555556,
              "#d8576b"
             ],
             [
              0.6666666666666666,
              "#ed7953"
             ],
             [
              0.7777777777777778,
              "#fb9f3a"
             ],
             [
              0.8888888888888888,
              "#fdca26"
             ],
             [
              1,
              "#f0f921"
             ]
            ],
            "type": "contour"
           }
          ],
          "contourcarpet": [
           {
            "colorbar": {
             "outlinewidth": 0,
             "ticks": ""
            },
            "type": "contourcarpet"
           }
          ],
          "heatmap": [
           {
            "colorbar": {
             "outlinewidth": 0,
             "ticks": ""
            },
            "colorscale": [
             [
              0,
              "#0d0887"
             ],
             [
              0.1111111111111111,
              "#46039f"
             ],
             [
              0.2222222222222222,
              "#7201a8"
             ],
             [
              0.3333333333333333,
              "#9c179e"
             ],
             [
              0.4444444444444444,
              "#bd3786"
             ],
             [
              0.5555555555555556,
              "#d8576b"
             ],
             [
              0.6666666666666666,
              "#ed7953"
             ],
             [
              0.7777777777777778,
              "#fb9f3a"
             ],
             [
              0.8888888888888888,
              "#fdca26"
             ],
             [
              1,
              "#f0f921"
             ]
            ],
            "type": "heatmap"
           }
          ],
          "histogram": [
           {
            "marker": {
             "pattern": {
              "fillmode": "overlay",
              "size": 10,
              "solidity": 0.2
             }
            },
            "type": "histogram"
           }
          ],
          "histogram2d": [
           {
            "colorbar": {
             "outlinewidth": 0,
             "ticks": ""
            },
            "colorscale": [
             [
              0,
              "#0d0887"
             ],
             [
              0.1111111111111111,
              "#46039f"
             ],
             [
              0.2222222222222222,
              "#7201a8"
             ],
             [
              0.3333333333333333,
              "#9c179e"
             ],
             [
              0.4444444444444444,
              "#bd3786"
             ],
             [
              0.5555555555555556,
              "#d8576b"
             ],
             [
              0.6666666666666666,
              "#ed7953"
             ],
             [
              0.7777777777777778,
              "#fb9f3a"
             ],
             [
              0.8888888888888888,
              "#fdca26"
             ],
             [
              1,
              "#f0f921"
             ]
            ],
            "type": "histogram2d"
           }
          ],
          "histogram2dcontour": [
           {
            "colorbar": {
             "outlinewidth": 0,
             "ticks": ""
            },
            "colorscale": [
             [
              0,
              "#0d0887"
             ],
             [
              0.1111111111111111,
              "#46039f"
             ],
             [
              0.2222222222222222,
              "#7201a8"
             ],
             [
              0.3333333333333333,
              "#9c179e"
             ],
             [
              0.4444444444444444,
              "#bd3786"
             ],
             [
              0.5555555555555556,
              "#d8576b"
             ],
             [
              0.6666666666666666,
              "#ed7953"
             ],
             [
              0.7777777777777778,
              "#fb9f3a"
             ],
             [
              0.8888888888888888,
              "#fdca26"
             ],
             [
              1,
              "#f0f921"
             ]
            ],
            "type": "histogram2dcontour"
           }
          ],
          "mesh3d": [
           {
            "colorbar": {
             "outlinewidth": 0,
             "ticks": ""
            },
            "type": "mesh3d"
           }
          ],
          "parcoords": [
           {
            "line": {
             "colorbar": {
              "outlinewidth": 0,
              "ticks": ""
             }
            },
            "type": "parcoords"
           }
          ],
          "pie": [
           {
            "automargin": true,
            "type": "pie"
           }
          ],
          "scatter": [
           {
            "fillpattern": {
             "fillmode": "overlay",
             "size": 10,
             "solidity": 0.2
            },
            "type": "scatter"
           }
          ],
          "scatter3d": [
           {
            "line": {
             "colorbar": {
              "outlinewidth": 0,
              "ticks": ""
             }
            },
            "marker": {
             "colorbar": {
              "outlinewidth": 0,
              "ticks": ""
             }
            },
            "type": "scatter3d"
           }
          ],
          "scattercarpet": [
           {
            "marker": {
             "colorbar": {
              "outlinewidth": 0,
              "ticks": ""
             }
            },
            "type": "scattercarpet"
           }
          ],
          "scattergeo": [
           {
            "marker": {
             "colorbar": {
              "outlinewidth": 0,
              "ticks": ""
             }
            },
            "type": "scattergeo"
           }
          ],
          "scattergl": [
           {
            "marker": {
             "colorbar": {
              "outlinewidth": 0,
              "ticks": ""
             }
            },
            "type": "scattergl"
           }
          ],
          "scattermap": [
           {
            "marker": {
             "colorbar": {
              "outlinewidth": 0,
              "ticks": ""
             }
            },
            "type": "scattermap"
           }
          ],
          "scattermapbox": [
           {
            "marker": {
             "colorbar": {
              "outlinewidth": 0,
              "ticks": ""
             }
            },
            "type": "scattermapbox"
           }
          ],
          "scatterpolar": [
           {
            "marker": {
             "colorbar": {
              "outlinewidth": 0,
              "ticks": ""
             }
            },
            "type": "scatterpolar"
           }
          ],
          "scatterpolargl": [
           {
            "marker": {
             "colorbar": {
              "outlinewidth": 0,
              "ticks": ""
             }
            },
            "type": "scatterpolargl"
           }
          ],
          "scatterternary": [
           {
            "marker": {
             "colorbar": {
              "outlinewidth": 0,
              "ticks": ""
             }
            },
            "type": "scatterternary"
           }
          ],
          "surface": [
           {
            "colorbar": {
             "outlinewidth": 0,
             "ticks": ""
            },
            "colorscale": [
             [
              0,
              "#0d0887"
             ],
             [
              0.1111111111111111,
              "#46039f"
             ],
             [
              0.2222222222222222,
              "#7201a8"
             ],
             [
              0.3333333333333333,
              "#9c179e"
             ],
             [
              0.4444444444444444,
              "#bd3786"
             ],
             [
              0.5555555555555556,
              "#d8576b"
             ],
             [
              0.6666666666666666,
              "#ed7953"
             ],
             [
              0.7777777777777778,
              "#fb9f3a"
             ],
             [
              0.8888888888888888,
              "#fdca26"
             ],
             [
              1,
              "#f0f921"
             ]
            ],
            "type": "surface"
           }
          ],
          "table": [
           {
            "cells": {
             "fill": {
              "color": "#EBF0F8"
             },
             "line": {
              "color": "white"
             }
            },
            "header": {
             "fill": {
              "color": "#C8D4E3"
             },
             "line": {
              "color": "white"
             }
            },
            "type": "table"
           }
          ]
         },
         "layout": {
          "annotationdefaults": {
           "arrowcolor": "#2a3f5f",
           "arrowhead": 0,
           "arrowwidth": 1
          },
          "autotypenumbers": "strict",
          "coloraxis": {
           "colorbar": {
            "outlinewidth": 0,
            "ticks": ""
           }
          },
          "colorscale": {
           "diverging": [
            [
             0,
             "#8e0152"
            ],
            [
             0.1,
             "#c51b7d"
            ],
            [
             0.2,
             "#de77ae"
            ],
            [
             0.3,
             "#f1b6da"
            ],
            [
             0.4,
             "#fde0ef"
            ],
            [
             0.5,
             "#f7f7f7"
            ],
            [
             0.6,
             "#e6f5d0"
            ],
            [
             0.7,
             "#b8e186"
            ],
            [
             0.8,
             "#7fbc41"
            ],
            [
             0.9,
             "#4d9221"
            ],
            [
             1,
             "#276419"
            ]
           ],
           "sequential": [
            [
             0,
             "#0d0887"
            ],
            [
             0.1111111111111111,
             "#46039f"
            ],
            [
             0.2222222222222222,
             "#7201a8"
            ],
            [
             0.3333333333333333,
             "#9c179e"
            ],
            [
             0.4444444444444444,
             "#bd3786"
            ],
            [
             0.5555555555555556,
             "#d8576b"
            ],
            [
             0.6666666666666666,
             "#ed7953"
            ],
            [
             0.7777777777777778,
             "#fb9f3a"
            ],
            [
             0.8888888888888888,
             "#fdca26"
            ],
            [
             1,
             "#f0f921"
            ]
           ],
           "sequentialminus": [
            [
             0,
             "#0d0887"
            ],
            [
             0.1111111111111111,
             "#46039f"
            ],
            [
             0.2222222222222222,
             "#7201a8"
            ],
            [
             0.3333333333333333,
             "#9c179e"
            ],
            [
             0.4444444444444444,
             "#bd3786"
            ],
            [
             0.5555555555555556,
             "#d8576b"
            ],
            [
             0.6666666666666666,
             "#ed7953"
            ],
            [
             0.7777777777777778,
             "#fb9f3a"
            ],
            [
             0.8888888888888888,
             "#fdca26"
            ],
            [
             1,
             "#f0f921"
            ]
           ]
          },
          "colorway": [
           "#636efa",
           "#EF553B",
           "#00cc96",
           "#ab63fa",
           "#FFA15A",
           "#19d3f3",
           "#FF6692",
           "#B6E880",
           "#FF97FF",
           "#FECB52"
          ],
          "font": {
           "color": "#2a3f5f"
          },
          "geo": {
           "bgcolor": "white",
           "lakecolor": "white",
           "landcolor": "#E5ECF6",
           "showlakes": true,
           "showland": true,
           "subunitcolor": "white"
          },
          "hoverlabel": {
           "align": "left"
          },
          "hovermode": "closest",
          "mapbox": {
           "style": "light"
          },
          "paper_bgcolor": "white",
          "plot_bgcolor": "#E5ECF6",
          "polar": {
           "angularaxis": {
            "gridcolor": "white",
            "linecolor": "white",
            "ticks": ""
           },
           "bgcolor": "#E5ECF6",
           "radialaxis": {
            "gridcolor": "white",
            "linecolor": "white",
            "ticks": ""
           }
          },
          "scene": {
           "xaxis": {
            "backgroundcolor": "#E5ECF6",
            "gridcolor": "white",
            "gridwidth": 2,
            "linecolor": "white",
            "showbackground": true,
            "ticks": "",
            "zerolinecolor": "white"
           },
           "yaxis": {
            "backgroundcolor": "#E5ECF6",
            "gridcolor": "white",
            "gridwidth": 2,
            "linecolor": "white",
            "showbackground": true,
            "ticks": "",
            "zerolinecolor": "white"
           },
           "zaxis": {
            "backgroundcolor": "#E5ECF6",
            "gridcolor": "white",
            "gridwidth": 2,
            "linecolor": "white",
            "showbackground": true,
            "ticks": "",
            "zerolinecolor": "white"
           }
          },
          "shapedefaults": {
           "line": {
            "color": "#2a3f5f"
           }
          },
          "ternary": {
           "aaxis": {
            "gridcolor": "white",
            "linecolor": "white",
            "ticks": ""
           },
           "baxis": {
            "gridcolor": "white",
            "linecolor": "white",
            "ticks": ""
           },
           "bgcolor": "#E5ECF6",
           "caxis": {
            "gridcolor": "white",
            "linecolor": "white",
            "ticks": ""
           }
          },
          "title": {
           "x": 0.05
          },
          "xaxis": {
           "automargin": true,
           "gridcolor": "white",
           "linecolor": "white",
           "ticks": "",
           "title": {
            "standoff": 15
           },
           "zerolinecolor": "white",
           "zerolinewidth": 2
          },
          "yaxis": {
           "automargin": true,
           "gridcolor": "white",
           "linecolor": "white",
           "ticks": "",
           "title": {
            "standoff": 15
           },
           "zerolinecolor": "white",
           "zerolinewidth": 2
          }
         }
        },
        "title": {
         "text": "🤖 Interactive Model Type Distribution"
        }
       }
      },
      "image/png": "[encoded data removed]"
     },
     "metadata": {},
     "output_type": "display_data"
    },
    {
     "name": "stdout",
     "output_type": "stream",
     "text": [
      "\n",
      "🔬 Creating Detailed Model Analysis...\n",
      "🔬 Creating detailed model analysis...\n"
     ]
    },
    {
     "data": {
      "image/png": "[encoded data removed]",
      "text/plain": [
       "<Figure size 2000x1500 with 4 Axes>"
      ]
     },
     "metadata": {},
     "output_type": "display_data"
    },
    {
     "name": "stdout",
     "output_type": "stream",
     "text": [
      "\n",
      "📋 Generating Executive Summary...\n",
      "📋 Generating Executive Summary Report...\n",
      "\n",
      "================================================================================\n",
      "🚀 FOREX PREDICTOR PRO - EXECUTIVE SUMMARY REPORT\n",
      "================================================================================\n",
      "\n",
      "📊 TRAINING OVERVIEW:\n",
      "   • Total Models Trained: 22\n",
      "   • Training Date: 2025-07-25 17:50:39\n",
      "   • Success Rate: 100% (All loaded models successful)\n",
      "\n",
      "📈 PERFORMANCE METRICS:\n",
      "   • Average MAPE: 0.06%\n",
      "   • Best MAPE: 0.00%\n",
      "   • Worst MAPE: 0.29%\n",
      "   • Average R² Score: 0.000\n",
      "   • Best R² Score: 0.000\n",
      "\n",
      "🤖 MODEL DISTRIBUTION:\n",
      "   • Linear_Regression: 22 models (100.0%)\n",
      "\n",
      "🏆 TOP 5 PERFORMING MODELS:\n",
      "   1. HONG KONG: 0.00% MAPE (Linear_Regression)\n",
      "   2. CHINA: 0.01% MAPE (Linear_Regression)\n",
      "   3. TAIWAN: 0.01% MAPE (Linear_Regression)\n",
      "   4. THAILAND: 0.01% MAPE (Linear_Regression)\n",
      "   5. SINGAPORE: 0.01% MAPE (Linear_Regression)\n",
      "\n",
      "📊 PERFORMANCE CATEGORIZATION:\n",
      "   • Excellent (MAPE < 1.5%): 22 models (100.0%)\n",
      "   • Good (1.5% ≤ MAPE < 2.5%): 0 models (0.0%)\n",
      "   • Fair (2.5% ≤ MAPE < 4.0%): 0 models (0.0%)\n",
      "   • Poor (MAPE ≥ 4.0%): 0 models (0.0%)\n",
      "\n",
      "🚀 DEPLOYMENT STATUS:\n",
      "   ✅ Models saved and ready for Streamlit deployment\n",
      "   ✅ Docker configuration prepared\n",
      "   ✅ All 22 currency pairs available for prediction\n",
      "\n",
      "📞 NEXT STEPS:\n",
      "   1. Deploy with: streamlit run app.py\n",
      "   2. Production: docker-compose up --build\n",
      "   3. Monitor model performance in production\n",
      "\n",
      "================================================================================\n",
      "Report generated on: 2025-07-25 17:50:39\n",
      "================================================================================\n",
      "\n",
      "📁 Executive summary saved to file!\n",
      "\n",
      "🎉 FIXED COMPREHENSIVE ANALYSIS COMPLETED!\n",
      "📊 All performance reports and visualizations generated successfully!\n"
     ]
    }
   ],
   "source": [
    "#COMPREHENSIVE PERFORMANCE ANALYSIS & DETAILED REPORTS\n",
    "import matplotlib.pyplot as plt\n",
    "import seaborn as sns\n",
    "import plotly.graph_objects as go\n",
    "import plotly.express as px\n",
    "import pandas as pd\n",
    "import numpy as np\n",
    "import glob\n",
    "import joblib\n",
    "from datetime import datetime\n",
    "import warnings\n",
    "warnings.filterwarnings('ignore')\n",
    "\n",
    "# Set up plotting style\n",
    "plt.style.use('default')\n",
    "sns.set_palette(\"husl\")\n",
    "\n",
    "def load_all_trained_models():\n",
    "    \"\"\"Load all trained models for analysis\"\"\"\n",
    "    print(\"📂 Loading all trained models...\")\n",
    "    \n",
    "    model_files = glob.glob(\"models/*_model.pkl\") + glob.glob(\"models/*_comprehensive_model.pkl\")\n",
    "    models_data = {}\n",
    "    \n",
    "    for model_file in model_files:\n",
    "        try:\n",
    "            model_data = joblib.load(model_file)\n",
    "            currency_name = model_data.get('currency_name', 'Unknown')\n",
    "            models_data[currency_name] = model_data\n",
    "        except Exception as e:\n",
    "            print(f\"   ⚠️ Could not load {model_file}: {str(e)}\")\n",
    "            continue\n",
    "    \n",
    "    print(f\"✅ Loaded {len(models_data)} trained models\")\n",
    "    return models_data\n",
    "\n",
    "def create_performance_dashboard_matplotlib(models_data):\n",
    "    \"\"\"Create comprehensive performance dashboard using Matplotlib\"\"\"\n",
    "    print(\"📊 Creating performance dashboard with Matplotlib...\")\n",
    "    \n",
    "    if not models_data:\n",
    "        print(\"❌ No models to analyze\")\n",
    "        return\n",
    "    \n",
    "    # Extract performance data\n",
    "    performance_data = []\n",
    "    for currency, model_data in models_data.items():\n",
    "        perf = model_data.get('performance', {})\n",
    "        performance_data.append({\n",
    "            'Currency': currency,\n",
    "            'Model_Type': model_data.get('model_type', 'Unknown'),\n",
    "            'MAPE': perf.get('MAPE', 0),\n",
    "            'MAE': perf.get('MAE', 0),\n",
    "            'RMSE': perf.get('RMSE', 0),\n",
    "            'R2': perf.get('R2', 0),\n",
    "            'Training_Time': perf.get('Training_Time', 0),\n",
    "            'Features': len(model_data.get('feature_columns', [])),\n",
    "            'Training_Date': model_data.get('training_date', 'Unknown')\n",
    "        })\n",
    "    \n",
    "    df = pd.DataFrame(performance_data)\n",
    "    df = df.sort_values('MAPE')\n",
    "    \n",
    "    # Create comprehensive dashboard with Matplotlib\n",
    "    fig, axes = plt.subplots(3, 3, figsize=(24, 18))\n",
    "    fig.suptitle('🚀 Forex Predictor Pro - Comprehensive Performance Dashboard', \n",
    "                 fontsize=20, fontweight='bold')\n",
    "    \n",
    "    # 1. Model Performance Ranking (MAPE)\n",
    "    colors = ['gold', 'silver', '#CD7F32'] + ['lightblue'] * (len(df) - 3)\n",
    "    bars = axes[0, 0].barh(range(len(df)), df['MAPE'], color=colors)\n",
    "    axes[0, 0].set_yticks(range(len(df)))\n",
    "    axes[0, 0].set_yticklabels(df['Currency'])\n",
    "    axes[0, 0].set_xlabel('MAPE (%)')\n",
    "    axes[0, 0].set_title('🏆 Model Performance Ranking (MAPE)', fontweight='bold')\n",
    "    axes[0, 0].grid(True, alpha=0.3)\n",
    "    \n",
    "    # Add value labels\n",
    "    for i, (bar, mape) in enumerate(zip(bars, df['MAPE'])):\n",
    "        axes[0, 0].text(bar.get_width() + 0.01, bar.get_y() + bar.get_height()/2,\n",
    "                       f'{mape:.2f}%', va='center', fontweight='bold')\n",
    "    \n",
    "    # 2. MAPE Distribution\n",
    "    axes[0, 1].hist(df['MAPE'], bins=10, alpha=0.7, color='skyblue', edgecolor='black')\n",
    "    axes[0, 1].axvline(df['MAPE'].mean(), color='red', linestyle='--', \n",
    "                      label=f'Mean: {df[\"MAPE\"].mean():.2f}%')\n",
    "    axes[0, 1].set_xlabel('MAPE (%)')\n",
    "    axes[0, 1].set_ylabel('Frequency')\n",
    "    axes[0, 1].set_title('📊 MAPE Distribution', fontweight='bold')\n",
    "    axes[0, 1].legend()\n",
    "    axes[0, 1].grid(True, alpha=0.3)\n",
    "    \n",
    "    # 3. Model Type Distribution\n",
    "    model_counts = df['Model_Type'].value_counts()\n",
    "    axes[0, 2].pie(model_counts.values, labels=model_counts.index, autopct='%1.1f%%', \n",
    "                   startangle=90)\n",
    "    axes[0, 2].set_title('🤖 Model Type Distribution', fontweight='bold')\n",
    "    \n",
    "    # 4. Performance Correlation Matrix\n",
    "    corr_data = df[['MAPE', 'MAE', 'RMSE', 'R2', 'Features']].corr()\n",
    "    im = axes[1, 0].imshow(corr_data.values, cmap='RdYlBu', aspect='auto')\n",
    "    axes[1, 0].set_xticks(range(len(corr_data.columns)))\n",
    "    axes[1, 0].set_xticklabels(corr_data.columns, rotation=45)\n",
    "    axes[1, 0].set_yticks(range(len(corr_data.columns)))\n",
    "    axes[1, 0].set_yticklabels(corr_data.columns)\n",
    "    axes[1, 0].set_title('📈 Performance Correlation Matrix', fontweight='bold')\n",
    "    plt.colorbar(im, ax=axes[1, 0])\n",
    "    \n",
    "    # 5. Training Time vs Performance\n",
    "    scatter = axes[1, 1].scatter(df['Training_Time'], df['MAPE'], \n",
    "                               c=df['R2'], cmap='viridis', s=80, alpha=0.7)\n",
    "    axes[1, 1].set_xlabel('Training Time (s)')\n",
    "    axes[1, 1].set_ylabel('MAPE (%)')\n",
    "    axes[1, 1].set_title('⏱️ Training Time vs Performance', fontweight='bold')\n",
    "    axes[1, 1].grid(True, alpha=0.3)\n",
    "    plt.colorbar(scatter, ax=axes[1, 1], label='R² Score')\n",
    "    \n",
    "    # 6. R² Score Distribution\n",
    "    axes[1, 2].boxplot(df['R2'], patch_artist=True, \n",
    "                      boxprops=dict(facecolor='lightgreen', alpha=0.7))\n",
    "    axes[1, 2].set_ylabel('R² Score')\n",
    "    axes[1, 2].set_title('🎯 R² Score Distribution', fontweight='bold')\n",
    "    axes[1, 2].grid(True, alpha=0.3)\n",
    "    \n",
    "    # 7. Feature Count Analysis\n",
    "    axes[2, 0].bar(range(len(df)), df['Features'], color='orange', alpha=0.7)\n",
    "    axes[2, 0].set_xticks(range(len(df)))\n",
    "    axes[2, 0].set_xticklabels(df['Currency'], rotation=45, ha='right')\n",
    "    axes[2, 0].set_ylabel('Feature Count')\n",
    "    axes[2, 0].set_title('🔧 Feature Count Analysis', fontweight='bold')\n",
    "    axes[2, 0].grid(True, alpha=0.3)\n",
    "    \n",
    "    # 8. Performance Categories\n",
    "    excellent = sum(1 for mape in df['MAPE'] if mape < 1.5)\n",
    "    good = sum(1 for mape in df['MAPE'] if 1.5 <= mape < 2.5)\n",
    "    fair = sum(1 for mape in df['MAPE'] if 2.5 <= mape < 4.0)\n",
    "    poor = sum(1 for mape in df['MAPE'] if mape >= 4.0)\n",
    "    \n",
    "    categories = ['Excellent\\n(<1.5%)', 'Good\\n(1.5-2.5%)', 'Fair\\n(2.5-4.0%)', 'Poor\\n(≥4.0%)']\n",
    "    counts = [excellent, good, fair, poor]\n",
    "    colors_cat = ['green', 'lightgreen', 'orange', 'red']\n",
    "    \n",
    "    bars = axes[2, 1].bar(categories, counts, color=colors_cat, alpha=0.7)\n",
    "    axes[2, 1].set_ylabel('Number of Models')\n",
    "    axes[2, 1].set_title('📊 Performance Categories', fontweight='bold')\n",
    "    axes[2, 1].grid(True, alpha=0.3)\n",
    "    \n",
    "    # Add value labels\n",
    "    for bar, count in zip(bars, counts):\n",
    "        axes[2, 1].text(bar.get_x() + bar.get_width()/2, bar.get_height() + 0.1,\n",
    "                       str(count), ha='center', va='bottom', fontweight='bold')\n",
    "    \n",
    "    # 9. Summary Statistics Table\n",
    "    summary_stats = [\n",
    "        ['Total Models', len(df)],\n",
    "        ['Avg MAPE', f\"{df['MAPE'].mean():.2f}%\"],\n",
    "        ['Best MAPE', f\"{df['MAPE'].min():.2f}%\"],\n",
    "        ['Worst MAPE', f\"{df['MAPE'].max():.2f}%\"],\n",
    "        ['Avg R²', f\"{df['R2'].mean():.3f}\"],\n",
    "        ['Best R²', f\"{df['R2'].max():.3f}\"],\n",
    "        ['Avg Features', f\"{df['Features'].mean():.0f}\"],\n",
    "        ['Success Rate', '100%']\n",
    "    ]\n",
    "    \n",
    "    axes[2, 2].axis('tight')\n",
    "    axes[2, 2].axis('off')\n",
    "    table = axes[2, 2].table(cellText=summary_stats,\n",
    "                            colLabels=['📊 Metric', '📈 Value'],\n",
    "                            cellLoc='center',\n",
    "                            loc='center',\n",
    "                            colWidths=[0.5, 0.5])\n",
    "    table.auto_set_font_size(False)\n",
    "    table.set_fontsize(10)\n",
    "    table.scale(1.2, 1.5)\n",
    "    axes[2, 2].set_title('📋 Summary Statistics', fontweight='bold')\n",
    "    \n",
    "    plt.tight_layout()\n",
    "    plt.show()\n",
    "    \n",
    "    return df\n",
    "\n",
    "def create_plotly_charts_separate(df):\n",
    "    \"\"\"Create separate Plotly charts to avoid subplot issues\"\"\"\n",
    "    print(\"📊 Creating individual Plotly charts...\")\n",
    "    \n",
    "    # 1. Interactive Performance Ranking\n",
    "    fig1 = go.Figure()\n",
    "    colors = ['gold' if i == 0 else 'silver' if i == 1 else '#CD7F32' if i == 2 else 'lightblue' \n",
    "              for i in range(len(df))]\n",
    "    \n",
    "    fig1.add_trace(go.Bar(\n",
    "        x=df['MAPE'],\n",
    "        y=df['Currency'],\n",
    "        orientation='h',\n",
    "        marker_color=colors,\n",
    "        text=[f\"{mape:.2f}%\" for mape in df['MAPE']],\n",
    "        textposition='auto',\n",
    "        hovertemplate='<b>%{y}</b><br>MAPE: %{x:.2f}%<extra></extra>'\n",
    "    ))\n",
    "    \n",
    "    fig1.update_layout(\n",
    "        title=\"🏆 Interactive Model Performance Ranking\",\n",
    "        xaxis_title=\"MAPE (%)\",\n",
    "        yaxis_title=\"Currency\",\n",
    "        height=600,\n",
    "        showlegend=False\n",
    "    )\n",
    "    \n",
    "    fig1.show()\n",
    "    \n",
    "    # 2. Interactive Scatter Plot\n",
    "    fig2 = go.Figure()\n",
    "    \n",
    "    fig2.add_trace(go.Scatter(\n",
    "        x=df['Training_Time'],\n",
    "        y=df['MAPE'],\n",
    "        mode='markers+text',\n",
    "        text=df['Currency'],\n",
    "        textposition=\"top center\",\n",
    "        marker=dict(\n",
    "            size=12,\n",
    "            color=df['R2'],\n",
    "            colorscale='Viridis',\n",
    "            showscale=True,\n",
    "            colorbar=dict(title=\"R² Score\")\n",
    "        ),\n",
    "        hovertemplate='<b>%{text}</b><br>Training Time: %{x:.1f}s<br>MAPE: %{y:.2f}%<extra></extra>'\n",
    "    ))\n",
    "    \n",
    "    fig2.update_layout(\n",
    "        title=\"⏱️ Interactive Training Time vs Performance\",\n",
    "        xaxis_title=\"Training Time (seconds)\",\n",
    "        yaxis_title=\"MAPE (%)\",\n",
    "        height=600\n",
    "    )\n",
    "    \n",
    "    fig2.show()\n",
    "    \n",
    "    # 3. Model Type Distribution\n",
    "    model_counts = df['Model_Type'].value_counts()\n",
    "    fig3 = go.Figure()\n",
    "    \n",
    "    fig3.add_trace(go.Pie(\n",
    "        labels=model_counts.index,\n",
    "        values=model_counts.values,\n",
    "        hole=0.3,\n",
    "        hovertemplate='<b>%{label}</b><br>Count: %{value}<br>Percentage: %{percent}<extra></extra>'\n",
    "    ))\n",
    "    \n",
    "    fig3.update_layout(\n",
    "        title=\"🤖 Interactive Model Type Distribution\",\n",
    "        height=500\n",
    "    )\n",
    "    \n",
    "    fig3.show()\n",
    "\n",
    "def create_detailed_model_analysis(models_data):\n",
    "    \"\"\"Create detailed analysis for each model type using Matplotlib\"\"\"\n",
    "    print(\"🔬 Creating detailed model analysis...\")\n",
    "    \n",
    "    # Group by model type\n",
    "    model_groups = {}\n",
    "    for currency, model_data in models_data.items():\n",
    "        model_type = model_data.get('model_type', 'Unknown')\n",
    "        if model_type not in model_groups:\n",
    "            model_groups[model_type] = []\n",
    "        model_groups[model_type].append({\n",
    "            'currency': currency,\n",
    "            'performance': model_data.get('performance', {}),\n",
    "            'features': len(model_data.get('feature_columns', []))\n",
    "        })\n",
    "    \n",
    "    # Create analysis for each model type\n",
    "    fig, axes = plt.subplots(2, 2, figsize=(20, 15))\n",
    "    fig.suptitle('🤖 Detailed Model Type Analysis', fontsize=20, fontweight='bold')\n",
    "    \n",
    "    # 1. Performance by Model Type\n",
    "    model_performance = {}\n",
    "    for model_type, models in model_groups.items():\n",
    "        mapes = [m['performance'].get('MAPE', 0) for m in models]\n",
    "        model_performance[model_type] = mapes\n",
    "    \n",
    "    bp = axes[0, 0].boxplot(model_performance.values(), labels=model_performance.keys(), patch_artist=True)\n",
    "    colors = ['lightblue', 'lightgreen', 'lightcoral', 'lightyellow', 'lightpink']\n",
    "    for patch, color in zip(bp['boxes'], colors[:len(bp['boxes'])]):\n",
    "        patch.set_facecolor(color)\n",
    "    \n",
    "    axes[0, 0].set_title('📊 MAPE Distribution by Model Type', fontsize=14, fontweight='bold')\n",
    "    axes[0, 0].set_ylabel('MAPE (%)')\n",
    "    axes[0, 0].grid(True, alpha=0.3)\n",
    "    \n",
    "    # 2. Model Success Rate\n",
    "    model_counts = {model_type: len(models) for model_type, models in model_groups.items()}\n",
    "    axes[0, 1].pie(model_counts.values(), labels=model_counts.keys(), autopct='%1.1f%%', startangle=90)\n",
    "    axes[0, 1].set_title('🥧 Model Type Usage Distribution', fontsize=14, fontweight='bold')\n",
    "    \n",
    "    # 3. Performance vs Features\n",
    "    for model_type, models in model_groups.items():\n",
    "        features = [m['features'] for m in models]\n",
    "        mapes = [m['performance'].get('MAPE', 0) for m in models]\n",
    "        axes[1, 0].scatter(features, mapes, label=model_type, alpha=0.7, s=60)\n",
    "    \n",
    "    axes[1, 0].set_xlabel('Number of Features')\n",
    "    axes[1, 0].set_ylabel('MAPE (%)')\n",
    "    axes[1, 0].set_title('📈 Performance vs Feature Count', fontsize=14, fontweight='bold')\n",
    "    axes[1, 0].legend()\n",
    "    axes[1, 0].grid(True, alpha=0.3)\n",
    "    \n",
    "    # 4. Model Performance Rankings\n",
    "    all_performances = []\n",
    "    for model_type, models in model_groups.items():\n",
    "        for model in models:\n",
    "            all_performances.append({\n",
    "                'Currency': model['currency'],\n",
    "                'Model': model_type,\n",
    "                'MAPE': model['performance'].get('MAPE', 0)\n",
    "            })\n",
    "    \n",
    "    perf_df = pd.DataFrame(all_performances).sort_values('MAPE')\n",
    "    top_10 = perf_df.head(10)\n",
    "    \n",
    "    bars = axes[1, 1].barh(range(len(top_10)), top_10['MAPE'], \n",
    "                          color=['gold', 'silver', '#CD7F32'] + ['lightblue'] * 7)\n",
    "    axes[1, 1].set_yticks(range(len(top_10)))\n",
    "    axes[1, 1].set_yticklabels([f\"{row['Currency']} ({row['Model']})\" for _, row in top_10.iterrows()])\n",
    "    axes[1, 1].set_xlabel('MAPE (%)')\n",
    "    axes[1, 1].set_title('🏆 Top 10 Best Performing Models', fontsize=14, fontweight='bold')\n",
    "    axes[1, 1].grid(True, alpha=0.3)\n",
    "    \n",
    "    # Add value labels on bars\n",
    "    for i, (bar, mape) in enumerate(zip(bars, top_10['MAPE'])):\n",
    "        axes[1, 1].text(bar.get_width() + 0.01, bar.get_y() + bar.get_height()/2, \n",
    "                       f'{mape:.2f}%', va='center', fontsize=10)\n",
    "    \n",
    "    plt.tight_layout()\n",
    "    plt.show()\n",
    "\n",
    "def generate_executive_summary(models_data):\n",
    "    \"\"\"Generate executive summary report\"\"\"\n",
    "    print(\"📋 Generating Executive Summary Report...\")\n",
    "    \n",
    "    if not models_data:\n",
    "        print(\"❌ No models to summarize\")\n",
    "        return\n",
    "    \n",
    "    # Calculate summary statistics\n",
    "    total_models = len(models_data)\n",
    "    \n",
    "    # Performance statistics\n",
    "    mapes = [model_data.get('performance', {}).get('MAPE', 0) for model_data in models_data.values()]\n",
    "    r2s = [model_data.get('performance', {}).get('R2', 0) for model_data in models_data.values()]\n",
    "    \n",
    "    avg_mape = np.mean(mapes)\n",
    "    best_mape = np.min(mapes)\n",
    "    worst_mape = np.max(mapes)\n",
    "    \n",
    "    avg_r2 = np.mean(r2s)\n",
    "    best_r2 = np.max(r2s)\n",
    "    \n",
    "    # Model type distribution\n",
    "    model_types = [model_data.get('model_type', 'Unknown') for model_data in models_data.values()]\n",
    "    model_type_counts = pd.Series(model_types).value_counts()\n",
    "    \n",
    "    # Best performing models\n",
    "    performance_list = [(currency, model_data.get('performance', {}).get('MAPE', 0), \n",
    "                        model_data.get('model_type', 'Unknown')) \n",
    "                       for currency, model_data in models_data.items()]\n",
    "    performance_list.sort(key=lambda x: x[1])\n",
    "    \n",
    "    # Generate report\n",
    "    report = f\"\"\"\n",
    "{'='*80}\n",
    "🚀 FOREX PREDICTOR PRO - EXECUTIVE SUMMARY REPORT\n",
    "{'='*80}\n",
    "\n",
    "📊 TRAINING OVERVIEW:\n",
    "   • Total Models Trained: {total_models}\n",
    "   • Training Date: {datetime.now().strftime('%Y-%m-%d %H:%M:%S')}\n",
    "   • Success Rate: 100% (All loaded models successful)\n",
    "\n",
    "📈 PERFORMANCE METRICS:\n",
    "   • Average MAPE: {avg_mape:.2f}%\n",
    "   • Best MAPE: {best_mape:.2f}%\n",
    "   • Worst MAPE: {worst_mape:.2f}%\n",
    "   • Average R² Score: {avg_r2:.3f}\n",
    "   • Best R² Score: {best_r2:.3f}\n",
    "\n",
    "🤖 MODEL DISTRIBUTION:\n",
    "\"\"\"\n",
    "    \n",
    "    for model_type, count in model_type_counts.items():\n",
    "        percentage = (count / total_models) * 100\n",
    "        report += f\"   • {model_type}: {count} models ({percentage:.1f}%)\\n\"\n",
    "    \n",
    "    report += f\"\"\"\n",
    "🏆 TOP 5 PERFORMING MODELS:\n",
    "\"\"\"\n",
    "    \n",
    "    for i, (currency, mape, model_type) in enumerate(performance_list[:5], 1):\n",
    "        report += f\"   {i}. {currency}: {mape:.2f}% MAPE ({model_type})\\n\"\n",
    "    \n",
    "    # Performance categorization\n",
    "    excellent = sum(1 for mape in mapes if mape < 1.5)\n",
    "    good = sum(1 for mape in mapes if 1.5 <= mape < 2.5)\n",
    "    fair = sum(1 for mape in mapes if 2.5 <= mape < 4.0)\n",
    "    poor = sum(1 for mape in mapes if mape >= 4.0)\n",
    "    \n",
    "    report += f\"\"\"\n",
    "📊 PERFORMANCE CATEGORIZATION:\n",
    "   • Excellent (MAPE < 1.5%): {excellent} models ({excellent/total_models*100:.1f}%)\n",
    "   • Good (1.5% ≤ MAPE < 2.5%): {good} models ({good/total_models*100:.1f}%)\n",
    "   • Fair (2.5% ≤ MAPE < 4.0%): {fair} models ({fair/total_models*100:.1f}%)\n",
    "   • Poor (MAPE ≥ 4.0%): {poor} models ({poor/total_models*100:.1f}%)\n",
    "\n",
    "🚀 DEPLOYMENT STATUS:\n",
    "   ✅ Models saved and ready for Streamlit deployment\n",
    "   ✅ Docker configuration prepared\n",
    "   ✅ All {total_models} currency pairs available for prediction\n",
    "   \n",
    "📞 NEXT STEPS:\n",
    "   1. Deploy with: streamlit run app.py\n",
    "   2. Production: docker-compose up --build\n",
    "   3. Monitor model performance in production\n",
    "\n",
    "{'='*80}\n",
    "Report generated on: {datetime.now().strftime('%Y-%m-%d %H:%M:%S')}\n",
    "{'='*80}\n",
    "\"\"\"\n",
    "    \n",
    "    print(report)\n",
    "    \n",
    "    # Save report to file\n",
    "    with open(f'forex_model_report_{datetime.now().strftime(\"%Y%m%d_%H%M%S\")}.txt', 'w') as f:\n",
    "        f.write(report)\n",
    "    \n",
    "    print(\"📁 Executive summary saved to file!\")\n",
    "\n",
    "# 🚀 EXECUTE FIXED COMPREHENSIVE ANALYSIS\n",
    "print(\"🚀 STARTING FIXED COMPREHENSIVE PERFORMANCE ANALYSIS\")\n",
    "print(\"=\" * 80)\n",
    "\n",
    "# Load all trained models\n",
    "models_data = load_all_trained_models()\n",
    "\n",
    "if models_data:\n",
    "    print(f\"✅ Found {len(models_data)} trained models to analyze\")\n",
    "    \n",
    "    # 1. Create performance dashboard with Matplotlib\n",
    "    print(\"\\n📊 Creating Performance Dashboard...\")\n",
    "    performance_df = create_performance_dashboard_matplotlib(models_data)\n",
    "    \n",
    "    # 2. Create separate interactive Plotly charts\n",
    "    print(\"\\n📊 Creating Interactive Plotly Charts...\")\n",
    "    create_plotly_charts_separate(performance_df)\n",
    "    \n",
    "    # 3. Detailed model analysis\n",
    "    print(\"\\n🔬 Creating Detailed Model Analysis...\")\n",
    "    create_detailed_model_analysis(models_data)\n",
    "    \n",
    "    # 4. Executive summary\n",
    "    print(\"\\n📋 Generating Executive Summary...\")\n",
    "    generate_executive_summary(models_data)\n",
    "    \n",
    "    print(\"\\n🎉 FIXED COMPREHENSIVE ANALYSIS COMPLETED!\")\n",
    "    print(\"📊 All performance reports and visualizations generated successfully!\")\n",
    "    \n",
    "else:\n",
    "    print(\"❌ No trained models found!\")\n",
    "    print(\"💡 Make sure you have run the training cell first to create model files\")"
   ]
  }
 ],
 "metadata": {
  "kernelspec": {
   "display_name": "Python (forex-env)",
   "language": "python",
   "name": "forex-env"
  },
  "language_info": {
   "codemirror_mode": {
    "name": "ipython",
    "version": 3
   },
   "file_extension": ".py",
   "mimetype": "text/x-python",
   "name": "python",
   "nbconvert_exporter": "python",
   "pygments_lexer": "ipython3",
   "version": "3.11.13"
  }
 },
 "nbformat": 4,
 "nbformat_minor": 5
}
